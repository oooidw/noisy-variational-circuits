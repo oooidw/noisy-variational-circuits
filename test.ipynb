{
 "cells": [
  {
   "cell_type": "code",
   "execution_count": 7,
   "id": "d8ce0dd9",
   "metadata": {},
   "outputs": [],
   "source": [
    "import torch as th\n",
    "import numpy as np\n",
    "from functions_ngates_v2 import calc_variance_pure, calc_variance_ng_cnot_batched, _kron_batched\n",
    "from functions_ngates_v1 import calc_variance_ng_crx_batched"
   ]
  },
  {
   "cell_type": "code",
   "execution_count": 8,
   "id": "c2c7de3b",
   "metadata": {},
   "outputs": [],
   "source": [
    "def _rx(phi, device='cpu'):\n",
    "    batch, s1, s2 = phi.shape[0], phi.shape[1], phi.shape[2]\n",
    "    rx = th.zeros(batch, s1, s2, 2, 2, dtype=th.complex128, device=device)\n",
    "    rx[:,:,:,0,0] = th.cos(phi/2)\n",
    "    rx[:,:,:,1,1] = th.cos(phi/2)\n",
    "    rx[:,:,:,0,1] = -1j*th.sin(phi/2)\n",
    "    rx[:,:,:,1,0] = -1j*th.sin(phi/2)\n",
    "\n",
    "    return rx\n",
    "\n",
    "def _ry(phi, device='cpu'):\n",
    "    batch, s1, s2 = phi.shape[0], phi.shape[1], phi.shape[2]\n",
    "    ry = th.zeros(batch, s1, s2, 2, 2, dtype=th.complex128, device=device)\n",
    "    ry[:,:,:,0,0] = th.cos(phi/2)\n",
    "    ry[:,:,:,1,1] = th.cos(phi/2)\n",
    "    ry[:,:,:,0,1] = -th.sin(phi/2)\n",
    "    ry[:,:,:,1,0] = th.sin(phi/2)\n",
    "\n",
    "    return ry\n",
    "\n",
    "def _Rxx(phi, device='cpu'):\n",
    "    batch, s1, s2 = phi.shape[0], phi.shape[1], phi.shape[2]\n",
    "    Rxx = th.zeros(batch, s1, s2, 4, 4, dtype=th.complex128, device=device)\n",
    "    Rxx[:,:,:,0,0] = th.cos(phi/2)\n",
    "    Rxx[:,:,:,1,1] = th.cos(phi/2)\n",
    "    Rxx[:,:,:,2,2] = th.cos(phi/2)\n",
    "    Rxx[:,:,:,3,3] = th.cos(phi/2)\n",
    "    Rxx[:,:,:,0,3] = -1j*th.sin(phi/2)\n",
    "    Rxx[:,:,:,1,2] = -1j*th.sin(phi/2)\n",
    "    Rxx[:,:,:,2,1] = -1j*th.sin(phi/2)\n",
    "    Rxx[:,:,:,3,0] = -1j*th.sin(phi/2)\n",
    "    \n",
    "    return Rxx\n",
    "\n",
    "def build_cnot_layer_operator_batch(N, L, phi, device='cpu'):\n",
    "    \"\"\"\n",
    "    Constructs a batch of CNOT layer operators.\n",
    "    phi_batch has shape (batch_size, N-1).\n",
    "    Returns a tensor of shape (batch_size, 2**N, 2**N).\n",
    "    \"\"\"\n",
    "    batch_size = phi.shape[0]\n",
    "    \n",
    "    # Pre-calculate identities to reuse\n",
    "    identities = [th.eye(2**i, dtype=th.complex128, device=device).repeat(batch_size, L, 1, 1) for i in range(N + 1)]\n",
    "\n",
    "    cnot = th.exp(-1j * phi.unsqueeze(-1).unsqueeze(-1)) *_kron_batched(_ry(-2*phi) @ _rx(-2*phi), _rx(-2*phi)) @ _Rxx(2*phi) @ _kron_batched(_ry(2*phi),th.eye(2, dtype=th.complex128, device=device))\n",
    "\n",
    "    full_ops = _kron_batched(identities[0], _kron_batched(cnot[:, 0], identities[N-2]))\n",
    "    \n",
    "    for j in range(1, N-1):\n",
    "        Id1 = identities[j]\n",
    "        Id2 = identities[N-j-2]\n",
    "        full_ops = full_ops @ _kron_batched(Id1, _kron_batched(cnot[:, j], Id2))\n",
    "\n",
    "    return cnot"
   ]
  },
  {
   "cell_type": "code",
   "execution_count": 57,
   "id": "69895086",
   "metadata": {},
   "outputs": [
    {
     "data": {
      "text/plain": [
       "tensor([[[[[1.0000+0.0000j, 0.0000+0.0000j, 0.0000+0.0000j, 0.0000+0.0000j],\n",
       "           [0.0000+0.0000j, 1.0000+0.0000j, 0.0000+0.0000j, 0.0000+0.0000j],\n",
       "           [0.0000+0.0000j, 0.0000+0.0000j, 0.0169+0.1290j, 0.9831-0.1290j],\n",
       "           [0.0000+0.0000j, 0.0000+0.0000j, 0.9831-0.1290j, 0.0169+0.1290j]]]]],\n",
       "       dtype=torch.complex128)"
      ]
     },
     "execution_count": 57,
     "metadata": {},
     "output_type": "execute_result"
    }
   ],
   "source": [
    "L = 1\n",
    "N = 2\n",
    "\n",
    "batch_size = 1\n",
    "\n",
    "phi = th.randn(size=(batch_size, N-1, L), dtype=th.float64) * np.pi/4\n",
    "\n",
    "cnot = th.zeros((batch_size, N-1, L, 4, 4), dtype=th.complex128,)\n",
    "cnot[:,:,:,0,0] = 1\n",
    "cnot[:,:,:,1,1] = 1\n",
    "cnot[:,:,:,2,2] = (1 + th.exp(1j * 4 * phi))/2\n",
    "cnot[:,:,:,3,3] = (1 + th.exp(1j * 4 * phi))/2\n",
    "cnot[:,:,:,2,3] = (1 - th.exp(1j * 4 * phi))/2\n",
    "cnot[:,:,:,3,2] = (1 - th.exp(1j * 4 * phi))/2\n",
    "\n",
    "cnot"
   ]
  },
  {
   "cell_type": "code",
   "execution_count": 60,
   "id": "6ae1ecf4",
   "metadata": {},
   "outputs": [
    {
     "data": {
      "text/plain": [
       "tensor([[[ 1.0000e+00+0.j,  0.0000e+00+0.j,  0.0000e+00+0.j,  0.0000e+00+0.j],\n",
       "         [ 0.0000e+00+0.j,  1.0000e+00+0.j,  0.0000e+00+0.j,  0.0000e+00+0.j],\n",
       "         [ 0.0000e+00+0.j,  0.0000e+00+0.j,  1.0000e+00+0.j, -4.8572e-17+0.j],\n",
       "         [ 0.0000e+00+0.j,  0.0000e+00+0.j, -4.8572e-17+0.j,  1.0000e+00+0.j]]],\n",
       "       dtype=torch.complex128)"
      ]
     },
     "execution_count": 60,
     "metadata": {},
     "output_type": "execute_result"
    }
   ],
   "source": [
    "cnot[:,0,0] @ cnot[:,0,0].conj().transpose(-1,-2)"
   ]
  },
  {
   "cell_type": "code",
   "execution_count": 22,
   "id": "c116ba8a",
   "metadata": {},
   "outputs": [
    {
     "data": {
      "text/plain": [
       "array([[[[[1.+0.j, 0.+0.j, 0.+0.j, 0.+0.j],\n",
       "          [0.+0.j, 1.+0.j, 0.+0.j, 0.+0.j],\n",
       "          [0.+0.j, 0.+0.j, 1.+0.j, 0.-0.j],\n",
       "          [0.+0.j, 0.+0.j, 0.-0.j, 1.+0.j]]]],\n",
       "\n",
       "\n",
       "\n",
       "       [[[[1.+0.j, 0.+0.j, 0.+0.j, 0.+0.j],\n",
       "          [0.+0.j, 1.+0.j, 0.+0.j, 0.+0.j],\n",
       "          [0.+0.j, 0.+0.j, 0.+0.j, 1.-0.j],\n",
       "          [0.+0.j, 0.+0.j, 1.-0.j, 0.+0.j]]]]])"
      ]
     },
     "execution_count": 22,
     "metadata": {},
     "output_type": "execute_result"
    }
   ],
   "source": [
    "cnot = th.zeros((batch_size, N-1, L, 4, 4), dtype=th.complex128,)\n",
    "cnot[:,:,:,0,0] = 1\n",
    "cnot[:,:,:,1,1] = 1\n",
    "cnot[:,:,:,2,2] = (1 + th.exp(1j * 4 * phi))/2\n",
    "cnot[:,:,:,3,3] = (1 + th.exp(1j * 4 * phi))/2\n",
    "cnot[:,:,:,2,3] = (1 - th.exp(1j * 4 * phi))/2\n",
    "cnot[:,:,:,3,2] = (1 - th.exp(1j * 4 * phi))/2\n",
    "np.round(cnot.numpy())"
   ]
  },
  {
   "cell_type": "code",
   "execution_count": 4,
   "id": "f2ea066f",
   "metadata": {},
   "outputs": [
    {
     "data": {
      "text/plain": [
       "torch.Size([1000, 500])"
      ]
     },
     "execution_count": 4,
     "metadata": {},
     "output_type": "execute_result"
    }
   ],
   "source": [
    "calc_variance_ng_cnot_batched(4,10,n_sim=1000, n_sim_noise=500).shape"
   ]
  },
  {
   "cell_type": "code",
   "execution_count": 6,
   "id": "3639199e",
   "metadata": {},
   "outputs": [
    {
     "data": {
      "text/plain": [
       "torch.Size([1000, 500])"
      ]
     },
     "execution_count": 6,
     "metadata": {},
     "output_type": "execute_result"
    }
   ],
   "source": [
    "calc_variance_ng_crx_batched(4,10,np.pi/2,n_sim=1000,n_sim_noise=500).shape"
   ]
  },
  {
   "cell_type": "code",
   "execution_count": null,
   "id": "b4a20eb1",
   "metadata": {},
   "outputs": [],
   "source": [
    "import torch.nn as nn\n",
    "\n",
    "class circuit(nn.Module):\n",
    "    def __init__(self, phi_init=phi):\n",
    "        super().__init__()\n",
    "        self.phi = nn.Parameter(torch.tensor(phi_init, dtype=torch.float64))\n",
    "\n",
    "    def forward(self):\n",
    "        # Example: apply Rx[0] and Ry[0] using the optimizable phi\n",
    "        rx_mat = Rx[0](self.phi)\n",
    "        ry_mat = Ry[0](self.phi)\n",
    "        return rx_mat @ ry_mat\n",
    "\n",
    "# Instantiate the module\n",
    "opt_module = MyOptimModule()"
   ]
  }
 ],
 "metadata": {
  "kernelspec": {
   "display_name": "Python 3",
   "language": "python",
   "name": "python3"
  },
  "language_info": {
   "codemirror_mode": {
    "name": "ipython",
    "version": 3
   },
   "file_extension": ".py",
   "mimetype": "text/x-python",
   "name": "python",
   "nbconvert_exporter": "python",
   "pygments_lexer": "ipython3",
   "version": "3.10.12"
  }
 },
 "nbformat": 4,
 "nbformat_minor": 5
}
