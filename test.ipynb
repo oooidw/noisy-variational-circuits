{
 "cells": [
  {
   "cell_type": "code",
   "execution_count": 4,
   "id": "d8ce0dd9",
   "metadata": {},
   "outputs": [
    {
     "ename": "ModuleNotFoundError",
     "evalue": "No module named 'functions_ngates_v2'",
     "output_type": "error",
     "traceback": [
      "\u001b[0;31m---------------------------------------------------------------------------\u001b[0m",
      "\u001b[0;31mModuleNotFoundError\u001b[0m                       Traceback (most recent call last)",
      "Cell \u001b[0;32mIn[4], line 3\u001b[0m\n\u001b[1;32m      1\u001b[0m \u001b[38;5;28;01mimport\u001b[39;00m \u001b[38;5;21;01mtorch\u001b[39;00m \u001b[38;5;28;01mas\u001b[39;00m \u001b[38;5;21;01mth\u001b[39;00m\n\u001b[1;32m      2\u001b[0m \u001b[38;5;28;01mimport\u001b[39;00m \u001b[38;5;21;01mnumpy\u001b[39;00m \u001b[38;5;28;01mas\u001b[39;00m \u001b[38;5;21;01mnp\u001b[39;00m\n\u001b[0;32m----> 3\u001b[0m \u001b[38;5;28;01mfrom\u001b[39;00m \u001b[38;5;21;01mfunctions_ngates_v2\u001b[39;00m \u001b[38;5;28;01mimport\u001b[39;00m calc_variance_pure, calc_variance_ng_cnot_batched, _kron_batched\n\u001b[1;32m      4\u001b[0m \u001b[38;5;28;01mfrom\u001b[39;00m \u001b[38;5;21;01mfunctions_ngates_v1\u001b[39;00m \u001b[38;5;28;01mimport\u001b[39;00m calc_variance_ng_crx_batched\n",
      "\u001b[0;31mModuleNotFoundError\u001b[0m: No module named 'functions_ngates_v2'"
     ]
    }
   ],
   "source": [
    "import torch as th\n",
    "import numpy as np\n",
    "from functions_ngates_v2 import calc_variance_pure, calc_variance_ng_cnot_batched, _kron_batched\n",
    "from functions_ngates_v1 import calc_variance_ng_crx_batched"
   ]
  },
  {
   "cell_type": "code",
   "execution_count": 16,
   "id": "621e0598",
   "metadata": {},
   "outputs": [
    {
     "name": "stdout",
     "output_type": "stream",
     "text": [
      "0 0 0\n",
      "1 1 0\n",
      "2 0 1\n",
      "3 1 1\n",
      "4 0 2\n",
      "5 1 2\n",
      "6 0 3\n",
      "7 1 3\n",
      "8 0 4\n",
      "9 1 4\n"
     ]
    }
   ],
   "source": [
    "Lx = 2\n",
    "Ly = 5\n",
    "\n",
    "matrix = np.zeros((Lx,Ly))\n",
    "\n",
    "for i in range(Lx*Ly):\n",
    "        print(i, i%Lx, i//Lx)"
   ]
  },
  {
   "cell_type": "code",
   "execution_count": 13,
   "id": "d623ba9d",
   "metadata": {},
   "outputs": [
    {
     "data": {
      "text/plain": [
       "6"
      ]
     },
     "execution_count": 13,
     "metadata": {},
     "output_type": "execute_result"
    }
   ],
   "source": [
    "f = lambda x,y : (x+1)%Lx*Ly + (y+1)%Ly\n",
    "f(0,0)"
   ]
  },
  {
   "cell_type": "code",
   "execution_count": 57,
   "id": "69895086",
   "metadata": {},
   "outputs": [
    {
     "data": {
      "text/plain": [
       "tensor([[[[[1.0000+0.0000j, 0.0000+0.0000j, 0.0000+0.0000j, 0.0000+0.0000j],\n",
       "           [0.0000+0.0000j, 1.0000+0.0000j, 0.0000+0.0000j, 0.0000+0.0000j],\n",
       "           [0.0000+0.0000j, 0.0000+0.0000j, 0.0169+0.1290j, 0.9831-0.1290j],\n",
       "           [0.0000+0.0000j, 0.0000+0.0000j, 0.9831-0.1290j, 0.0169+0.1290j]]]]],\n",
       "       dtype=torch.complex128)"
      ]
     },
     "execution_count": 57,
     "metadata": {},
     "output_type": "execute_result"
    }
   ],
   "source": [
    "L = 1\n",
    "N = 2\n",
    "\n",
    "batch_size = 1\n",
    "\n",
    "phi = th.randn(size=(batch_size, N-1, L), dtype=th.float64) * np.pi/4\n",
    "\n",
    "cnot = th.zeros((batch_size, N-1, L, 4, 4), dtype=th.complex128,)\n",
    "cnot[:,:,:,0,0] = 1\n",
    "cnot[:,:,:,1,1] = 1\n",
    "cnot[:,:,:,2,2] = (1 + th.exp(1j * 4 * phi))/2\n",
    "cnot[:,:,:,3,3] = (1 + th.exp(1j * 4 * phi))/2\n",
    "cnot[:,:,:,2,3] = (1 - th.exp(1j * 4 * phi))/2\n",
    "cnot[:,:,:,3,2] = (1 - th.exp(1j * 4 * phi))/2\n",
    "\n",
    "cnot"
   ]
  },
  {
   "cell_type": "code",
   "execution_count": 60,
   "id": "6ae1ecf4",
   "metadata": {},
   "outputs": [
    {
     "data": {
      "text/plain": [
       "tensor([[[ 1.0000e+00+0.j,  0.0000e+00+0.j,  0.0000e+00+0.j,  0.0000e+00+0.j],\n",
       "         [ 0.0000e+00+0.j,  1.0000e+00+0.j,  0.0000e+00+0.j,  0.0000e+00+0.j],\n",
       "         [ 0.0000e+00+0.j,  0.0000e+00+0.j,  1.0000e+00+0.j, -4.8572e-17+0.j],\n",
       "         [ 0.0000e+00+0.j,  0.0000e+00+0.j, -4.8572e-17+0.j,  1.0000e+00+0.j]]],\n",
       "       dtype=torch.complex128)"
      ]
     },
     "execution_count": 60,
     "metadata": {},
     "output_type": "execute_result"
    }
   ],
   "source": [
    "cnot[:,0,0] @ cnot[:,0,0].conj().transpose(-1,-2)"
   ]
  },
  {
   "cell_type": "code",
   "execution_count": 22,
   "id": "c116ba8a",
   "metadata": {},
   "outputs": [
    {
     "data": {
      "text/plain": [
       "array([[[[[1.+0.j, 0.+0.j, 0.+0.j, 0.+0.j],\n",
       "          [0.+0.j, 1.+0.j, 0.+0.j, 0.+0.j],\n",
       "          [0.+0.j, 0.+0.j, 1.+0.j, 0.-0.j],\n",
       "          [0.+0.j, 0.+0.j, 0.-0.j, 1.+0.j]]]],\n",
       "\n",
       "\n",
       "\n",
       "       [[[[1.+0.j, 0.+0.j, 0.+0.j, 0.+0.j],\n",
       "          [0.+0.j, 1.+0.j, 0.+0.j, 0.+0.j],\n",
       "          [0.+0.j, 0.+0.j, 0.+0.j, 1.-0.j],\n",
       "          [0.+0.j, 0.+0.j, 1.-0.j, 0.+0.j]]]]])"
      ]
     },
     "execution_count": 22,
     "metadata": {},
     "output_type": "execute_result"
    }
   ],
   "source": [
    "cnot = th.zeros((batch_size, N-1, L, 4, 4), dtype=th.complex128,)\n",
    "cnot[:,:,:,0,0] = 1\n",
    "cnot[:,:,:,1,1] = 1\n",
    "cnot[:,:,:,2,2] = (1 + th.exp(1j * 4 * phi))/2\n",
    "cnot[:,:,:,3,3] = (1 + th.exp(1j * 4 * phi))/2\n",
    "cnot[:,:,:,2,3] = (1 - th.exp(1j * 4 * phi))/2\n",
    "cnot[:,:,:,3,2] = (1 - th.exp(1j * 4 * phi))/2\n",
    "np.round(cnot.numpy())"
   ]
  },
  {
   "cell_type": "code",
   "execution_count": 4,
   "id": "f2ea066f",
   "metadata": {},
   "outputs": [
    {
     "data": {
      "text/plain": [
       "torch.Size([1000, 500])"
      ]
     },
     "execution_count": 4,
     "metadata": {},
     "output_type": "execute_result"
    }
   ],
   "source": [
    "calc_variance_ng_cnot_batched(4,10,n_sim=1000, n_sim_noise=500).shape"
   ]
  },
  {
   "cell_type": "code",
   "execution_count": 6,
   "id": "3639199e",
   "metadata": {},
   "outputs": [
    {
     "data": {
      "text/plain": [
       "torch.Size([1000, 500])"
      ]
     },
     "execution_count": 6,
     "metadata": {},
     "output_type": "execute_result"
    }
   ],
   "source": [
    "calc_variance_ng_crx_batched(4,10,np.pi/2,n_sim=1000,n_sim_noise=500).shape"
   ]
  },
  {
   "cell_type": "code",
   "execution_count": null,
   "id": "b4a20eb1",
   "metadata": {},
   "outputs": [],
   "source": [
    "import torch.nn as nn\n",
    "\n",
    "class circuit(nn.Module):\n",
    "    def __init__(self, phi_init=phi):\n",
    "        super().__init__()\n",
    "        self.phi = nn.Parameter(torch.tensor(phi_init, dtype=torch.float64))\n",
    "\n",
    "    def forward(self):\n",
    "        # Example: apply Rx[0] and Ry[0] using the optimizable phi\n",
    "        rx_mat = Rx[0](self.phi)\n",
    "        ry_mat = Ry[0](self.phi)\n",
    "        return rx_mat @ ry_mat\n",
    "\n",
    "# Instantiate the module\n",
    "opt_module = MyOptimModule()"
   ]
  }
 ],
 "metadata": {
  "kernelspec": {
   "display_name": "Python 3",
   "language": "python",
   "name": "python3"
  },
  "language_info": {
   "codemirror_mode": {
    "name": "ipython",
    "version": 3
   },
   "file_extension": ".py",
   "mimetype": "text/x-python",
   "name": "python",
   "nbconvert_exporter": "python",
   "pygments_lexer": "ipython3",
   "version": "3.10.12"
  }
 },
 "nbformat": 4,
 "nbformat_minor": 5
}
