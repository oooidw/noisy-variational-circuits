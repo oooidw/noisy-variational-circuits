{
 "cells": [
  {
   "cell_type": "code",
   "execution_count": 2,
   "metadata": {},
   "outputs": [],
   "source": [
    "import torch as th\n",
    "import numpy as np"
   ]
  },
  {
   "cell_type": "markdown",
   "metadata": {},
   "source": [
    "## General functions"
   ]
  },
  {
   "cell_type": "code",
   "execution_count": 60,
   "metadata": {},
   "outputs": [],
   "source": [
    "def rotation(theta):\n",
    "    \"\"\"Rotation matrix for a single qubit.\"\"\"\n",
    "    U = th.tensor(\n",
    "            [[np.cos(theta / 2), -1j * np.sin(theta / 2)],\n",
    "            [-1j * np.sin(theta / 2), np.cos(theta / 2)]],\n",
    "            dtype=th.complex128)\n",
    "    return U\n",
    "\n",
    "\n",
    "def global_rotation(angles,N):\n",
    "    \"\"\"Apply a global rotation to the state vector.\"\"\"\n",
    "\n",
    "    U = rotation(angles[0])\n",
    "\n",
    "    for i in range(1,N):\n",
    "        U_i = rotation(angles[i])\n",
    "        U = th.kron(U, U_i)\n",
    "    return U\n",
    "\n",
    "\n",
    "def cnot_gates(N):\n",
    "    \"\"\"Return a n-1 cascading CNOT.\"\"\"\n",
    "\n",
    "    cnot = th.tensor([\n",
    "                [1, 0, 0, 0],\n",
    "                [0, 1, 0, 0],\n",
    "                [0, 0, 0, 1],\n",
    "                [0, 0, 1, 0]\n",
    "        ], dtype=th.complex128)\n",
    "    \n",
    "    cnot_gates = []\n",
    "    \n",
    "    for i in range(N-1):    \n",
    "        p1 = i\n",
    "        p2 = N-i-2\n",
    "\n",
    "        Id1 = th.eye(2**p1, dtype=th.complex128)\n",
    "        Id2 = th.eye(2**p2, dtype=th.complex128)\n",
    "\n",
    "        cnot_gates.append(th.kron(Id1, th.kron(cnot, Id2)))\n",
    "    \n",
    "    return cnot_gates\n",
    "\n",
    "def generate_ghz(N):\n",
    "    state = th.zeros(2**N, dtype=th.complex128)\n",
    "    state[0] = 1/np.sqrt(2)\n",
    "    state[-1] = 1/np.sqrt(2)\n",
    "    return state\n",
    "\n",
    "\n",
    "def generate_H(N):\n",
    "    h = 9/N\n",
    "    scale = 2**(N/2)\n",
    "\n",
    "    Z = th.tensor([[1, 0], [0, -1]], dtype=th.complex128)\n",
    "\n",
    "    ZZ = th.kron(Z, Z)\n",
    "\n",
    "    H = th.zeros(2**N, 2**N, dtype=th.complex128)\n",
    "\n",
    "    for i in range(N-1):\n",
    "        H += th.kron( th.eye(2**i), th.kron(ZZ, th.eye(2**(N-i-2))) )\n",
    "\n",
    "    return h*scale*H"
   ]
  },
  {
   "cell_type": "markdown",
   "metadata": {},
   "source": [
    "## Density matrix computation"
   ]
  },
  {
   "cell_type": "code",
   "execution_count": 75,
   "metadata": {},
   "outputs": [],
   "source": [
    "def generate_ghz_dm(N):\n",
    "    \"\"\"Generate a GHZ state for N qubits.\"\"\"\n",
    "    ghz_state = generate_ghz(N)\n",
    "    return th.outer(ghz_state, ghz_state)\n",
    "\n",
    "\n",
    "def layer(state, angles, N):\n",
    "    \"\"\"Apply a layer of gates to the state vector.\"\"\"\n",
    "    U = global_rotation(angles,N)\n",
    "    \n",
    "    # Apply the rotation\n",
    "    state = U @ state @ U.adjoint()\n",
    "    \n",
    "\n",
    "    CNOT_gates = cnot_gates(N)\n",
    "    # Apply CNOT gates\n",
    "    for cnot in CNOT_gates:\n",
    "        state = cnot @ state @ cnot.adjoint()\n",
    "    \n",
    "    return state\n",
    "\n",
    "def calc_variance(N,L,p,n_sim=100):\n",
    "\n",
    "    ghz = generate_ghz_dm(N)\n",
    "    H = generate_H(N)\n",
    "\n",
    "    obs = 0\n",
    "\n",
    "    for _ in range(n_sim):\n",
    "        state = th.zeros(2**N,2**N, dtype=th.complex128)\n",
    "        state[0,0] = 1.0  # |000>\n",
    "\n",
    "        params = np.random.uniform(0, np.pi, size=(L, N))\n",
    "\n",
    "        for i in range(L):\n",
    "            state = p * ghz + (1-p) * layer(state, params[i], N)\n",
    "\n",
    "        # Run the circuit\n",
    "        obs += th.trace(state @ H).real\n",
    "    \n",
    "    return obs/n_sim\n"
   ]
  },
  {
   "cell_type": "code",
   "execution_count": 67,
   "metadata": {},
   "outputs": [
    {
     "data": {
      "text/plain": [
       "tensor(7.3595, dtype=torch.float64)"
      ]
     },
     "execution_count": 67,
     "metadata": {},
     "output_type": "execute_result"
    }
   ],
   "source": [
    "calc_variance(10, 8, 0.1, n_sim=1)"
   ]
  },
  {
   "cell_type": "code",
   "execution_count": 74,
   "metadata": {},
   "outputs": [
    {
     "data": {
      "image/png": "[encoded data removed]",
      "text/plain": [
       "<Figure size 640x480 with 1 Axes>"
      ]
     },
     "metadata": {},
     "output_type": "display_data"
    }
   ],
   "source": [
    "import matplotlib.pyplot as plt\n",
    "\n",
    "ps = np.linspace(0, 0.5, 7)\n",
    "variances = [calc_variance(5, 9, p, n_sim=200) for p in ps]\n",
    "\n",
    "plt.plot(ps, variances, marker='o')\n",
    "plt.xlabel('p')\n",
    "plt.ylabel('Variance')\n",
    "plt.title('Variance vs p')\n",
    "plt.show()"
   ]
  },
  {
   "cell_type": "markdown",
   "metadata": {},
   "source": [
    "## Optimized state vector computation"
   ]
  },
  {
   "cell_type": "code",
   "execution_count": 76,
   "metadata": {},
   "outputs": [],
   "source": [
    "def layer(state, angles, N):\n",
    "    \"\"\"Apply a layer of gates to the state vector.\"\"\"\n",
    "    U = global_rotation(angles,N)\n",
    "    \n",
    "    # Apply the rotation\n",
    "    state = U @ state\n",
    "\n",
    "    CNOT_gates = cnot_gates(N) \n",
    "    \n",
    "    # Apply CNOT gates\n",
    "    for cnot in CNOT_gates:\n",
    "        state = cnot @ state\n",
    "    \n",
    "    return state\n",
    "\n",
    "\n",
    "def generate_dm(N,L,p):\n",
    "        \n",
    "    dm_state = th.zeros(2**N,2**N, dtype=th.complex128)\n",
    "    n_run = 100\n",
    "\n",
    "    for _ in range(n_run):\n",
    "        # Sample whether to entangle or use CNOT at each layer\n",
    "        entangle_flags = np.random.rand(L) < p  # Boolean array\n",
    "\n",
    "        last_true_idx = np.where(entangle_flags)[0][-1] if np.any(entangle_flags) else 0\n",
    "\n",
    "        l = L - last_true_idx   # number of effective layers\n",
    "        \n",
    "        params = np.random.uniform(0, np.pi, size=(l, N))\n",
    "        \n",
    "        state = generate_ghz_dm(N) \n",
    "\n",
    "        for i in range(l):\n",
    "            state = layer(state, params[i], N)\n",
    "\n",
    "        dm_state += state.adjoint() @ state\n",
    "\n",
    "    return dm_state / n_run\n",
    "\n",
    "\n",
    "def calc_variance(N,L,p):\n",
    "    n_sim = 1000\n",
    "\n",
    "    H = generate_H(N)\n",
    "\n",
    "    res = []\n",
    "\n",
    "    for _ in range(n_sim):\n",
    "        \n",
    "        state = generate_dm(N,L,p)\n",
    "\n",
    "        # Run the circuit\n",
    "        res.append(th.trace(state @ H).real)\n",
    "    \n",
    "    return np.std(res)\n"
   ]
  },
  {
   "cell_type": "code",
   "execution_count": 77,
   "metadata": {},
   "outputs": [
    {
     "data": {
      "text/plain": [
       "1.6870714703406642e-15"
      ]
     },
     "execution_count": 77,
     "metadata": {},
     "output_type": "execute_result"
    }
   ],
   "source": [
    "calc_variance(2, 3, 0.1)"
   ]
  },
  {
   "cell_type": "code",
   "execution_count": 48,
   "metadata": {},
   "outputs": [
    {
     "name": "stdout",
     "output_type": "stream",
     "text": [
      "         1846541 function calls in 7.605 seconds\n",
      "\n",
      "   Ordered by: standard name\n",
      "\n",
      "   ncalls  tottime  percall  cumtime  percall filename:lineno(function)\n",
      "   228016    0.913    0.000    1.934    0.000 2310274791.py:1(rotation)\n",
      "    57004    0.274    0.000    3.040    0.000 2310274791.py:10(global_rotation)\n",
      "    57004    0.442    0.000    2.680    0.000 2310274791.py:21(cnot_gates)\n",
      "    10000    0.235    0.000    0.292    0.000 2310274791.py:44(generate_ghz)\n",
      "        1    0.000    0.000    0.001    0.001 2310274791.py:51(generate_H)\n",
      "    57004    0.945    0.000    6.665    0.000 2368915923.py:1(layer)\n",
      "      100    0.338    0.003    7.600    0.076 2368915923.py:17(generate_dm)\n",
      "        1    0.002    0.002    7.604    7.604 2368915923.py:42(calc_variance)\n",
      "    10000    0.009    0.000    0.371    0.000 6946541.py:1(generate_ghz_dm)\n",
      "        1    0.000    0.000    7.604    7.604 <string>:1(<module>)\n",
      "        1    0.000    0.000    0.001    0.001 _methods.py:135(_var)\n",
      "        1    0.000    0.000    0.001    0.001 _methods.py:204(_std)\n",
      "        1    0.000    0.000    0.000    0.000 _methods.py:67(_count_reduce_items)\n",
      "      100    0.000    0.000    0.000    0.000 _tensor.py:1190(__array__)\n",
      "        2    0.000    0.000    0.000    0.000 _ufunc_config.py:452(_no_nep50_warning)\n",
      "        1    0.000    0.000    0.000    0.000 contextlib.py:102(__init__)\n",
      "        1    0.000    0.000    0.000    0.000 contextlib.py:130(__enter__)\n",
      "        1    0.000    0.000    0.000    0.000 contextlib.py:139(__exit__)\n",
      "        1    0.000    0.000    0.000    0.000 contextlib.py:279(helper)\n",
      "    10000    0.002    0.000    0.002    0.000 fromnumeric.py:2317(_any_dispatcher)\n",
      "    10000    0.011    0.000    0.076    0.000 fromnumeric.py:2322(any)\n",
      "        1    0.000    0.000    0.000    0.000 fromnumeric.py:3508(_std_dispatcher)\n",
      "        1    0.000    0.000    0.001    0.001 fromnumeric.py:3513(std)\n",
      "    10000    0.019    0.000    0.066    0.000 fromnumeric.py:71(_wrapreduction)\n",
      "    10000    0.005    0.000    0.005    0.000 fromnumeric.py:72(<dictcomp>)\n",
      "     5673    0.001    0.000    0.001    0.000 multiarray.py:346(where)\n",
      "        1    0.000    0.000    7.605    7.605 {built-in method builtins.exec}\n",
      "        1    0.000    0.000    0.000    0.000 {built-in method builtins.getattr}\n",
      "        2    0.000    0.000    0.000    0.000 {built-in method builtins.hasattr}\n",
      "        3    0.000    0.000    0.000    0.000 {built-in method builtins.isinstance}\n",
      "        2    0.000    0.000    0.000    0.000 {built-in method builtins.issubclass}\n",
      "        2    0.000    0.000    0.000    0.000 {built-in method builtins.next}\n",
      "        2    0.000    0.000    0.000    0.000 {built-in method numpy.asanyarray}\n",
      "        1    0.000    0.000    0.000    0.000 {built-in method numpy.core._multiarray_umath.normalize_axis_index}\n",
      "      100    0.000    0.000    0.000    0.000 {built-in method torch._C._has_torch_function_unary}\n",
      "   342030    0.758    0.000    0.758    0.000 {built-in method torch.eye}\n",
      "   513043    2.014    0.000    2.014    0.000 {built-in method torch.kron}\n",
      "    10000    0.071    0.000    0.071    0.000 {built-in method torch.outer}\n",
      "   285021    1.306    0.000    1.306    0.000 {built-in method torch.tensor}\n",
      "      100    0.001    0.000    0.001    0.000 {built-in method torch.trace}\n",
      "    10101    0.058    0.000    0.058    0.000 {built-in method torch.zeros}\n",
      "    10000    0.066    0.000    0.066    0.000 {method 'adjoint' of 'torch._C.TensorBase' objects}\n",
      "   171112    0.013    0.000    0.013    0.000 {method 'append' of 'list' objects}\n",
      "        1    0.000    0.000    0.000    0.000 {method 'disable' of '_lsprof.Profiler' objects}\n",
      "    10000    0.002    0.000    0.002    0.000 {method 'items' of 'dict' objects}\n",
      "      100    0.000    0.000    0.000    0.000 {method 'numpy' of 'torch._C.TensorBase' objects}\n",
      "    10000    0.039    0.000    0.039    0.000 {method 'rand' of 'numpy.random.mtrand.RandomState' objects}\n",
      "    10002    0.040    0.000    0.040    0.000 {method 'reduce' of 'numpy.ufunc' objects}\n",
      "        1    0.000    0.000    0.000    0.000 {method 'reset' of '_contextvars.ContextVar' objects}\n",
      "        1    0.000    0.000    0.000    0.000 {method 'set' of '_contextvars.ContextVar' objects}\n",
      "    10000    0.040    0.000    0.040    0.000 {method 'uniform' of 'numpy.random.mtrand.RandomState' objects}\n",
      "\n",
      "\n"
     ]
    }
   ],
   "source": [
    "import cProfile\n",
    "\n",
    "cProfile.run(\"calc_variance(4, 8, 0.1)\")"
   ]
  },
  {
   "cell_type": "code",
   "execution_count": null,
   "metadata": {},
   "outputs": [],
   "source": []
  }
 ],
 "metadata": {
  "kernelspec": {
   "display_name": "Python 3",
   "language": "python",
   "name": "python3"
  },
  "language_info": {
   "codemirror_mode": {
    "name": "ipython",
    "version": 3
   },
   "file_extension": ".py",
   "mimetype": "text/x-python",
   "name": "python",
   "nbconvert_exporter": "python",
   "pygments_lexer": "ipython3",
   "version": "3.10.12"
  }
 },
 "nbformat": 4,
 "nbformat_minor": 2
}
