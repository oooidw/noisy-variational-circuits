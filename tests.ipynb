{
 "cells": [
  {
   "cell_type": "markdown",
   "metadata": {},
   "source": [
    "# Test on the loss function scaling in deep and shallow circuits"
   ]
  },
  {
   "cell_type": "code",
   "execution_count": 2,
   "metadata": {},
   "outputs": [],
   "source": [
    "import numpy as np\n",
    "import pennylane as qml"
   ]
  },
  {
   "cell_type": "code",
   "execution_count": 3,
   "metadata": {},
   "outputs": [],
   "source": [
    "N = 2 # number of qubits\n",
    "L = 1 # number of layers\n",
    "\n",
    "# Define a quantum device with 2 qubits\n",
    "dev = qml.device(\"default.mixed\", wires=N)\n",
    "wires = np.arange(N)"
   ]
  },
  {
   "cell_type": "code",
   "execution_count": 4,
   "metadata": {},
   "outputs": [],
   "source": [
    "# Define a single layer of the circuit\n",
    "def layer(params):\n",
    "    \n",
    "    for wire,param in zip(wires,params):\n",
    "        qml.RX(param, wires=wire)\n",
    "\n",
    "    for i in range(len(wires) - 1):\n",
    "        qml.CNOT(wires=[wires[i], wires[i + 1]])\n",
    "\n",
    "    # Add a depolarizing channel to each qubit\n",
    "    for wire in wires:\n",
    "        qml.DepolarizingChannel(0.1, wires=wire)\n",
    "   \n",
    "\n",
    "# Define a quantum node (QNode)\n",
    "@qml.qnode(dev)\n",
    "def circuit(params,layers=2):\n",
    "\n",
    "    # Add multiple layers\n",
    "    for i in range(layers):  # Example: 3 layers\n",
    "        layer(params[i,:]) \n",
    "\n",
    "    # Measure the expectation value of PauliZ on both qubits\n",
    "    return qml.expval(qml.PauliZ(0)), qml.expval(qml.PauliZ(1))"
   ]
  },
  {
   "cell_type": "code",
   "execution_count": 5,
   "metadata": {},
   "outputs": [
    {
     "name": "stdout",
     "output_type": "stream",
     "text": [
      "Circuit output: (0.8488269871136118, 0.641965248976492)\n",
      "0: ──RX(-0.2)─╭●──DepolarizingChannel(0.1)─┤  <Z>\n",
      "1: ──RX(-0.7)─╰X──DepolarizingChannel(0.1)─┤  <Z>\n"
     ]
    }
   ],
   "source": [
    "# Example parameters\n",
    "params = np.random.normal(size=(L,N))\n",
    "\n",
    "# Execute the circuit\n",
    "result = circuit(params,layers=L)\n",
    "print(\"Circuit output:\", result)\n",
    "\n",
    "drawer = qml.draw(circuit, show_all_wires=True, wire_order=[0,1], decimals=1)\n",
    "print(drawer(params,L))"
   ]
  },
  {
   "cell_type": "code",
   "execution_count": 6,
   "metadata": {},
   "outputs": [
    {
     "data": {
      "image/png": "[encoded data removed]",
      "text/plain": [
       "<Figure size 600x300 with 1 Axes>"
      ]
     },
     "metadata": {},
     "output_type": "display_data"
    }
   ],
   "source": [
    "fig, ax = qml.draw_mpl(circuit,expansion_strategy=\"device\",style=\"black_white\")(params,layers=L)"
   ]
  },
  {
   "cell_type": "code",
   "execution_count": 7,
   "metadata": {},
   "outputs": [],
   "source": [
    "N=3"
   ]
  },
  {
   "cell_type": "code",
   "execution_count": 8,
   "metadata": {},
   "outputs": [],
   "source": [
    "h = 9/N\n",
    "scale = 2**(N/2)\n",
    "\n",
    "# Build the Hamiltonian: sum Z_k ⊗ Z_{k+1}\n",
    "coeffs = [h * scale for _ in range(N - 1)]\n",
    "ops = [qml.PauliZ(k) @ qml.PauliZ(k + 1) for k in range(N - 1)]\n",
    "H = qml.Hamiltonian(coeffs, ops)\n",
    "\n",
    "\n",
    "def maximally_entangled_state(N):\n",
    "    ghz_state = np.zeros(2**N, dtype=complex)\n",
    "    ghz_state[0] = 1 / np.sqrt(2)         # |000⟩\n",
    "    ghz_state[-1] = 1 / np.sqrt(2)        # |1⟩\n",
    "    qml.StatePrep(ghz_state, wires=range(N))\n",
    "\n",
    "def layer(params, N, L):\n",
    "    \"\"\"Apply RX rotations to all qubits.\"\"\"\n",
    "    for i in range(N):\n",
    "        qml.RX(params[i], wires=i)\n",
    "        \n",
    "        if i < N - 1:\n",
    "            qml.CNOT(wires=[i, i + 1])\n",
    "\n",
    "def custom_layer(params, apply_entangled, N, L):\n",
    "    \"\"\"Apply one full layer of RX + (CNOT or Entangled state).\"\"\"\n",
    "    \n",
    "    if apply_entangled:\n",
    "        maximally_entangled_state(N)\n",
    "    else:\n",
    "        layer(params, N, L)"
   ]
  },
  {
   "cell_type": "code",
   "execution_count": 9,
   "metadata": {},
   "outputs": [
    {
     "data": {
      "text/plain": [
       "0j"
      ]
     },
     "execution_count": 9,
     "metadata": {},
     "output_type": "execute_result"
    }
   ],
   "source": [
    "import torch as th\n",
    "\n",
    "N = 5\n",
    "\n",
    "h = 9/N\n",
    "scale = 2**(N/2)\n",
    "\n",
    "# Build the Hamiltonian: sum Z_k ⊗ Z_{k+1}\n",
    "coeffs = [h * scale for _ in range(N - 1)]\n",
    "ops = [qml.PauliZ(k) @ qml.PauliZ(k + 1) for k in range(N - 1)]\n",
    "H = qml.Hamiltonian(coeffs, ops)\n",
    "\n",
    "def generate_H(N):\n",
    "    h = 9/N\n",
    "    scale = 2**(N/2)\n",
    "\n",
    "    Z = th.tensor([[1, 0], [0, -1]], dtype=th.complex128)\n",
    "\n",
    "    ZZ = th.kron(Z, Z)\n",
    "\n",
    "    H = th.zeros(2**N, 2**N, dtype=th.complex128)\n",
    "\n",
    "    for i in range(N-1):\n",
    "        H += th.kron( th.eye(2**i), th.kron(ZZ, th.eye(2**(N-i-2))) )\n",
    "\n",
    "    return h*scale*H\n",
    "\n",
    "np.sum(H.matrix() - generate_H(N).numpy())"
   ]
  },
  {
   "cell_type": "code",
   "execution_count": 10,
   "metadata": {},
   "outputs": [
    {
     "ename": "WireError",
     "evalue": "Cannot run circuit(s) on default.qubit as they contain wires not found on the device: {4}",
     "output_type": "error",
     "traceback": [
      "\u001b[0;31m---------------------------------------------------------------------------\u001b[0m",
      "\u001b[0;31mWireError\u001b[0m                                 Traceback (most recent call last)",
      "Cell \u001b[0;32mIn[10], line 30\u001b[0m\n\u001b[1;32m     27\u001b[0m N \u001b[38;5;241m=\u001b[39m \u001b[38;5;241m4\u001b[39m\n\u001b[1;32m     28\u001b[0m L \u001b[38;5;241m=\u001b[39m \u001b[38;5;241m2\u001b[39m\n\u001b[0;32m---> 30\u001b[0m \u001b[38;5;28mprint\u001b[39m(\u001b[43mcalc_variance\u001b[49m\u001b[43m(\u001b[49m\u001b[38;5;241;43m1\u001b[39;49m\u001b[43m,\u001b[49m\u001b[43mN\u001b[49m\u001b[43m,\u001b[49m\u001b[43mL\u001b[49m\u001b[43m)\u001b[49m)\n",
      "Cell \u001b[0;32mIn[10], line 21\u001b[0m, in \u001b[0;36mcalc_variance\u001b[0;34m(p, N, L)\u001b[0m\n\u001b[1;32m     18\u001b[0m         \u001b[38;5;28;01mreturn\u001b[39;00m qml\u001b[38;5;241m.\u001b[39mexpval(H)\n\u001b[1;32m     20\u001b[0m     \u001b[38;5;66;03m# Run the circuit\u001b[39;00m\n\u001b[0;32m---> 21\u001b[0m     state \u001b[38;5;241m+\u001b[39m\u001b[38;5;241m=\u001b[39m \u001b[43mcircuit\u001b[49m\u001b[43m(\u001b[49m\u001b[43mparams\u001b[49m\u001b[43m,\u001b[49m\u001b[43m \u001b[49m\u001b[43mentangle_flags\u001b[49m\u001b[43m)\u001b[49m\n\u001b[1;32m     23\u001b[0m \u001b[38;5;28;01mreturn\u001b[39;00m state\u001b[38;5;241m/\u001b[39mn_sim\n",
      "File \u001b[0;32m/usr/local/lib/python3.10/dist-packages/pennylane/workflow/qnode.py:882\u001b[0m, in \u001b[0;36mQNode.__call__\u001b[0;34m(self, *args, **kwargs)\u001b[0m\n\u001b[1;32m    879\u001b[0m     \u001b[38;5;28;01mfrom\u001b[39;00m \u001b[38;5;21;01m.\u001b[39;00m\u001b[38;5;21;01m_capture_qnode\u001b[39;00m \u001b[38;5;28;01mimport\u001b[39;00m capture_qnode  \u001b[38;5;66;03m# pylint: disable=import-outside-toplevel\u001b[39;00m\n\u001b[1;32m    881\u001b[0m     \u001b[38;5;28;01mreturn\u001b[39;00m capture_qnode(\u001b[38;5;28mself\u001b[39m, \u001b[38;5;241m*\u001b[39margs, \u001b[38;5;241m*\u001b[39m\u001b[38;5;241m*\u001b[39mkwargs)\n\u001b[0;32m--> 882\u001b[0m \u001b[38;5;28;01mreturn\u001b[39;00m \u001b[38;5;28;43mself\u001b[39;49m\u001b[38;5;241;43m.\u001b[39;49m\u001b[43m_impl_call\u001b[49m\u001b[43m(\u001b[49m\u001b[38;5;241;43m*\u001b[39;49m\u001b[43margs\u001b[49m\u001b[43m,\u001b[49m\u001b[43m \u001b[49m\u001b[38;5;241;43m*\u001b[39;49m\u001b[38;5;241;43m*\u001b[39;49m\u001b[43mkwargs\u001b[49m\u001b[43m)\u001b[49m\n",
      "File \u001b[0;32m/usr/local/lib/python3.10/dist-packages/pennylane/workflow/qnode.py:855\u001b[0m, in \u001b[0;36mQNode._impl_call\u001b[0;34m(self, *args, **kwargs)\u001b[0m\n\u001b[1;32m    852\u001b[0m \u001b[38;5;66;03m# Calculate the classical jacobians if necessary\u001b[39;00m\n\u001b[1;32m    853\u001b[0m \u001b[38;5;28mself\u001b[39m\u001b[38;5;241m.\u001b[39m_transform_program\u001b[38;5;241m.\u001b[39mset_classical_component(\u001b[38;5;28mself\u001b[39m, args, kwargs)\n\u001b[0;32m--> 855\u001b[0m res \u001b[38;5;241m=\u001b[39m \u001b[43mqml\u001b[49m\u001b[38;5;241;43m.\u001b[39;49m\u001b[43mexecute\u001b[49m\u001b[43m(\u001b[49m\n\u001b[1;32m    856\u001b[0m \u001b[43m    \u001b[49m\u001b[43m(\u001b[49m\u001b[43mtape\u001b[49m\u001b[43m,\u001b[49m\u001b[43m)\u001b[49m\u001b[43m,\u001b[49m\n\u001b[1;32m    857\u001b[0m \u001b[43m    \u001b[49m\u001b[43mdevice\u001b[49m\u001b[38;5;241;43m=\u001b[39;49m\u001b[38;5;28;43mself\u001b[39;49m\u001b[38;5;241;43m.\u001b[39;49m\u001b[43mdevice\u001b[49m\u001b[43m,\u001b[49m\n\u001b[1;32m    858\u001b[0m \u001b[43m    \u001b[49m\u001b[43mdiff_method\u001b[49m\u001b[38;5;241;43m=\u001b[39;49m\u001b[38;5;28;43mself\u001b[39;49m\u001b[38;5;241;43m.\u001b[39;49m\u001b[43mdiff_method\u001b[49m\u001b[43m,\u001b[49m\n\u001b[1;32m    859\u001b[0m \u001b[43m    \u001b[49m\u001b[43minterface\u001b[49m\u001b[38;5;241;43m=\u001b[39;49m\u001b[38;5;28;43mself\u001b[39;49m\u001b[38;5;241;43m.\u001b[39;49m\u001b[43minterface\u001b[49m\u001b[43m,\u001b[49m\n\u001b[1;32m    860\u001b[0m \u001b[43m    \u001b[49m\u001b[43mtransform_program\u001b[49m\u001b[38;5;241;43m=\u001b[39;49m\u001b[38;5;28;43mself\u001b[39;49m\u001b[38;5;241;43m.\u001b[39;49m\u001b[43m_transform_program\u001b[49m\u001b[43m,\u001b[49m\n\u001b[1;32m    861\u001b[0m \u001b[43m    \u001b[49m\u001b[43mgradient_kwargs\u001b[49m\u001b[38;5;241;43m=\u001b[39;49m\u001b[38;5;28;43mself\u001b[39;49m\u001b[38;5;241;43m.\u001b[39;49m\u001b[43mgradient_kwargs\u001b[49m\u001b[43m,\u001b[49m\n\u001b[1;32m    862\u001b[0m \u001b[43m    \u001b[49m\u001b[38;5;241;43m*\u001b[39;49m\u001b[38;5;241;43m*\u001b[39;49m\u001b[38;5;28;43mself\u001b[39;49m\u001b[38;5;241;43m.\u001b[39;49m\u001b[43mexecute_kwargs\u001b[49m\u001b[43m,\u001b[49m\n\u001b[1;32m    863\u001b[0m \u001b[43m\u001b[49m\u001b[43m)\u001b[49m\n\u001b[1;32m    864\u001b[0m res \u001b[38;5;241m=\u001b[39m res[\u001b[38;5;241m0\u001b[39m]\n\u001b[1;32m    866\u001b[0m \u001b[38;5;66;03m# convert result to the interface in case the qfunc has no parameters\u001b[39;00m\n",
      "File \u001b[0;32m/usr/local/lib/python3.10/dist-packages/pennylane/workflow/execution.py:239\u001b[0m, in \u001b[0;36mexecute\u001b[0;34m(tapes, device, diff_method, interface, transform_program, grad_on_execution, cache, cachesize, max_diff, device_vjp, postselect_mode, mcm_method, gradient_kwargs, mcm_config, config, inner_transform)\u001b[0m\n\u001b[1;32m    234\u001b[0m transform_program, inner_transform \u001b[38;5;241m=\u001b[39m _setup_transform_program(\n\u001b[1;32m    235\u001b[0m     transform_program, device, config, cache, cachesize\n\u001b[1;32m    236\u001b[0m )\n\u001b[1;32m    238\u001b[0m \u001b[38;5;66;03m#### Executing the configured setup #####\u001b[39;00m\n\u001b[0;32m--> 239\u001b[0m tapes, post_processing \u001b[38;5;241m=\u001b[39m \u001b[43mtransform_program\u001b[49m\u001b[43m(\u001b[49m\u001b[43mtapes\u001b[49m\u001b[43m)\u001b[49m\n\u001b[1;32m    241\u001b[0m \u001b[38;5;28;01mif\u001b[39;00m transform_program\u001b[38;5;241m.\u001b[39mis_informative:\n\u001b[1;32m    242\u001b[0m     \u001b[38;5;28;01mreturn\u001b[39;00m post_processing(tapes)\n",
      "File \u001b[0;32m/usr/local/lib/python3.10/dist-packages/pennylane/transforms/core/transform_program.py:643\u001b[0m, in \u001b[0;36mTransformProgram.__call__\u001b[0;34m(self, *args, **kwargs)\u001b[0m\n\u001b[1;32m    641\u001b[0m \u001b[38;5;28;01mif\u001b[39;00m \u001b[38;5;28mtype\u001b[39m(args[\u001b[38;5;241m0\u001b[39m])\u001b[38;5;241m.\u001b[39m\u001b[38;5;18m__name__\u001b[39m \u001b[38;5;241m==\u001b[39m \u001b[38;5;124m\"\u001b[39m\u001b[38;5;124mJaxpr\u001b[39m\u001b[38;5;124m\"\u001b[39m:\n\u001b[1;32m    642\u001b[0m     \u001b[38;5;28;01mreturn\u001b[39;00m \u001b[38;5;28mself\u001b[39m\u001b[38;5;241m.\u001b[39m__call_jaxpr(\u001b[38;5;241m*\u001b[39margs, \u001b[38;5;241m*\u001b[39m\u001b[38;5;241m*\u001b[39mkwargs)\n\u001b[0;32m--> 643\u001b[0m \u001b[38;5;28;01mreturn\u001b[39;00m \u001b[38;5;28;43mself\u001b[39;49m\u001b[38;5;241;43m.\u001b[39;49m\u001b[43m__call_tapes\u001b[49m\u001b[43m(\u001b[49m\u001b[38;5;241;43m*\u001b[39;49m\u001b[43margs\u001b[49m\u001b[43m,\u001b[49m\u001b[43m \u001b[49m\u001b[38;5;241;43m*\u001b[39;49m\u001b[38;5;241;43m*\u001b[39;49m\u001b[43mkwargs\u001b[49m\u001b[43m)\u001b[49m\n",
      "File \u001b[0;32m/usr/local/lib/python3.10/dist-packages/pennylane/transforms/core/transform_program.py:580\u001b[0m, in \u001b[0;36mTransformProgram.__call_tapes\u001b[0;34m(self, tapes)\u001b[0m\n\u001b[1;32m    578\u001b[0m \u001b[38;5;28;01mif\u001b[39;00m argnums \u001b[38;5;129;01mis\u001b[39;00m \u001b[38;5;129;01mnot\u001b[39;00m \u001b[38;5;28;01mNone\u001b[39;00m:\n\u001b[1;32m    579\u001b[0m     tape\u001b[38;5;241m.\u001b[39mtrainable_params \u001b[38;5;241m=\u001b[39m argnums[j]\n\u001b[0;32m--> 580\u001b[0m new_tapes, fn \u001b[38;5;241m=\u001b[39m \u001b[43mtransform\u001b[49m\u001b[43m(\u001b[49m\u001b[43mtape\u001b[49m\u001b[43m,\u001b[49m\u001b[43m \u001b[49m\u001b[38;5;241;43m*\u001b[39;49m\u001b[43mtargs\u001b[49m\u001b[43m,\u001b[49m\u001b[43m \u001b[49m\u001b[38;5;241;43m*\u001b[39;49m\u001b[38;5;241;43m*\u001b[39;49m\u001b[43mtkwargs\u001b[49m\u001b[43m)\u001b[49m\n\u001b[1;32m    581\u001b[0m execution_tapes\u001b[38;5;241m.\u001b[39mextend(new_tapes)\n\u001b[1;32m    583\u001b[0m fns\u001b[38;5;241m.\u001b[39mappend(fn)\n",
      "File \u001b[0;32m/usr/local/lib/python3.10/dist-packages/pennylane/devices/preprocess.py:148\u001b[0m, in \u001b[0;36mvalidate_device_wires\u001b[0;34m(tape, wires, name)\u001b[0m\n\u001b[1;32m    142\u001b[0m     \u001b[38;5;28;01mraise\u001b[39;00m WireError(\n\u001b[1;32m    143\u001b[0m         \u001b[38;5;124mf\u001b[39m\u001b[38;5;124m\"\u001b[39m\u001b[38;5;124mCannot run circuit(s) on \u001b[39m\u001b[38;5;132;01m{\u001b[39;00mname\u001b[38;5;132;01m}\u001b[39;00m\u001b[38;5;124m as abstract wires are present in the device: \u001b[39m\u001b[38;5;132;01m{\u001b[39;00mwires\u001b[38;5;132;01m}\u001b[39;00m\u001b[38;5;124m. \u001b[39m\u001b[38;5;124m\"\u001b[39m\n\u001b[1;32m    144\u001b[0m         \u001b[38;5;124mf\u001b[39m\u001b[38;5;124m\"\u001b[39m\u001b[38;5;124mAbstract wires are not yet supported.\u001b[39m\u001b[38;5;124m\"\u001b[39m\n\u001b[1;32m    145\u001b[0m     )\n\u001b[1;32m    147\u001b[0m \u001b[38;5;28;01mif\u001b[39;00m extra_wires \u001b[38;5;241m:=\u001b[39m \u001b[38;5;28mset\u001b[39m(tape\u001b[38;5;241m.\u001b[39mwires) \u001b[38;5;241m-\u001b[39m \u001b[38;5;28mset\u001b[39m(wires):\n\u001b[0;32m--> 148\u001b[0m     \u001b[38;5;28;01mraise\u001b[39;00m WireError(\n\u001b[1;32m    149\u001b[0m         \u001b[38;5;124mf\u001b[39m\u001b[38;5;124m\"\u001b[39m\u001b[38;5;124mCannot run circuit(s) on \u001b[39m\u001b[38;5;132;01m{\u001b[39;00mname\u001b[38;5;132;01m}\u001b[39;00m\u001b[38;5;124m as they contain wires \u001b[39m\u001b[38;5;124m\"\u001b[39m\n\u001b[1;32m    150\u001b[0m         \u001b[38;5;124mf\u001b[39m\u001b[38;5;124m\"\u001b[39m\u001b[38;5;124mnot found on the device: \u001b[39m\u001b[38;5;132;01m{\u001b[39;00mextra_wires\u001b[38;5;132;01m}\u001b[39;00m\u001b[38;5;124m\"\u001b[39m\n\u001b[1;32m    151\u001b[0m     )\n\u001b[1;32m    153\u001b[0m modified \u001b[38;5;241m=\u001b[39m \u001b[38;5;28;01mFalse\u001b[39;00m\n\u001b[1;32m    154\u001b[0m new_ops \u001b[38;5;241m=\u001b[39m \u001b[38;5;28;01mNone\u001b[39;00m\n",
      "\u001b[0;31mWireError\u001b[0m: Cannot run circuit(s) on default.qubit as they contain wires not found on the device: {4}"
     ]
    }
   ],
   "source": [
    "def calc_variance(p,N,L):\n",
    "    state = 0\n",
    "    n_sim = 1\n",
    "\n",
    "    for _ in range(n_sim):\n",
    "        params = np.random.uniform(0, np.pi, size=(L, N))\n",
    "\n",
    "        # Sample whether to entangle or use CNOT at each layer\n",
    "        entangle_flags = np.random.rand(L) < p  # Boolean array\n",
    "\n",
    "        dev = qml.device(\"default.qubit\", wires=N)\n",
    "\n",
    "        @qml.qnode(dev)\n",
    "        def circuit(params, entangle_flags):\n",
    "            \"\"\"Build a circuit using repeated custom layers.\"\"\"\n",
    "            for i, apply_entangled in enumerate(entangle_flags):\n",
    "                custom_layer(params[i], apply_entangled, N, L)\n",
    "            return qml.expval(H)\n",
    "\n",
    "        # Run the circuit\n",
    "        state += circuit(params, entangle_flags)\n",
    "    \n",
    "    return state/n_sim\n",
    "\n",
    "\n",
    "p = 1  # Probability to apply maximally entangled state\n",
    "N = 4\n",
    "L = 2\n",
    "\n",
    "print(calc_variance(1,N,L))\n"
   ]
  },
  {
   "cell_type": "code",
   "execution_count": null,
   "metadata": {},
   "outputs": [],
   "source": []
  },
  {
   "cell_type": "code",
   "execution_count": 13,
   "metadata": {},
   "outputs": [
    {
     "name": "stdout",
     "output_type": "stream",
     "text": [
      "[[0.821+0.j 0.   +0.j 0.   +0.j ... 0.   +0.j 0.   +0.j 0.046+0.j]\n",
      " [0.   +0.j 0.   +0.j 0.   +0.j ... 0.   +0.j 0.   +0.j 0.   +0.j]\n",
      " [0.   +0.j 0.   +0.j 0.   +0.j ... 0.   +0.j 0.   +0.j 0.   +0.j]\n",
      " ...\n",
      " [0.   +0.j 0.   +0.j 0.   +0.j ... 0.   +0.j 0.   +0.j 0.   +0.j]\n",
      " [0.   +0.j 0.   +0.j 0.   +0.j ... 0.   +0.j 0.   +0.j 0.   +0.j]\n",
      " [0.046+0.j 0.   +0.j 0.   +0.j ... 0.   +0.j 0.   +0.j 0.046+0.j]]\n"
     ]
    }
   ],
   "source": [
    "import pennylane as qml\n",
    "from pennylane import numpy as np\n",
    "\n",
    "n_qubits = 10\n",
    "dev = qml.device(\"default.mixed\", wires=n_qubits)\n",
    "\n",
    "# State 1: Rotation + CNOT\n",
    "@qml.qnode(dev)\n",
    "def evolved_state():\n",
    "    qml.RY(np.pi / 4, wires=0)\n",
    "    qml.CNOT(wires=[0, 1])\n",
    "    return qml.density_matrix(wires=range(n_qubits))\n",
    "\n",
    "# State 2: GHZ\n",
    "@qml.qnode(dev)\n",
    "def ghz_state():\n",
    "    ghz = np.zeros(2**n_qubits, dtype=complex)\n",
    "    ghz[0] = 1/np.sqrt(2)\n",
    "    ghz[-1] = 1/np.sqrt(2)\n",
    "    qml.StatePrep(ghz, wires=range(n_qubits))\n",
    "    return qml.density_matrix(wires=range(n_qubits))\n",
    "\n",
    "def probabilistic_state(p=0.3, shots=1000):\n",
    "    dm_sum = np.zeros((2**n_qubits, 2**n_qubits), dtype=complex)\n",
    "\n",
    "    for _ in range(shots):\n",
    "        if np.random.rand() < p:\n",
    "            dm = ghz_state()\n",
    "        else:\n",
    "            dm = evolved_state()\n",
    "        dm_sum += dm\n",
    "\n",
    "    return dm_sum / shots\n",
    "\n",
    "def full_circuit(p=0.3):\n",
    "    \"\"\"Full circuit with probabilistic GHZ state.\"\"\"\n",
    "    dev = qml.device(\"default.mixed\", wires=n_qubits)\n",
    "\n",
    "    @qml.qnode(dev)\n",
    "    def circuit():\n",
    "        if np.random.rand() < p:\n",
    "            ghz_state()\n",
    "        else:\n",
    "            evolved_state()\n",
    "        return qml.density_matrix(wires=range(n_qubits))\n",
    "\n",
    "    return circuit()\n",
    "\n",
    "rho = probabilistic_state(p=0.1, shots=1000)\n",
    "print(np.round(rho, 3))\n"
   ]
  },
  {
   "cell_type": "code",
   "execution_count": null,
   "metadata": {},
   "outputs": [],
   "source": []
  }
 ],
 "metadata": {
  "kernelspec": {
   "display_name": "Python 3",
   "language": "python",
   "name": "python3"
  },
  "language_info": {
   "codemirror_mode": {
    "name": "ipython",
    "version": 3
   },
   "file_extension": ".py",
   "mimetype": "text/x-python",
   "name": "python",
   "nbconvert_exporter": "python",
   "pygments_lexer": "ipython3",
   "version": "3.10.12"
  }
 },
 "nbformat": 4,
 "nbformat_minor": 2
}
