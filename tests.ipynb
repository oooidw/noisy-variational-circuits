{
 "cells": [
  {
   "cell_type": "markdown",
   "metadata": {},
   "source": [
    "# Test on the loss function scaling in deep and shallow circuits"
   ]
  },
  {
   "cell_type": "code",
   "execution_count": 58,
   "metadata": {},
   "outputs": [],
   "source": [
    "import numpy as np\n",
    "import pennylane as qml"
   ]
  },
  {
   "cell_type": "code",
   "execution_count": 60,
   "metadata": {},
   "outputs": [],
   "source": [
    "N = 2 # number of qubits\n",
    "L = 1 # number of layers\n",
    "\n",
    "# Define a quantum device with 2 qubits\n",
    "dev = qml.device(\"default.mixed\", wires=N)\n",
    "wires = np.arange(N)"
   ]
  },
  {
   "cell_type": "code",
   "execution_count": 29,
   "metadata": {},
   "outputs": [],
   "source": [
    "# Define a single layer of the circuit\n",
    "def layer(params):\n",
    "    \n",
    "    for wire,param in zip(wires,params):\n",
    "        qml.RX(param, wires=wire)\n",
    "\n",
    "    for i in range(len(wires) - 1):\n",
    "        qml.CNOT(wires=[wires[i], wires[i + 1]])\n",
    "\n",
    "    # Add a depolarizing channel to each qubit\n",
    "    for wire in wires:\n",
    "        qml.DepolarizingChannel(0.1, wires=wire)\n",
    "   \n",
    "\n",
    "# Define a quantum node (QNode)\n",
    "@qml.qnode(dev)\n",
    "def circuit(params,layers=2):\n",
    "\n",
    "    # Add multiple layers\n",
    "    for i in range(layers):  # Example: 3 layers\n",
    "        layer(params[i,:]) \n",
    "\n",
    "    # Measure the expectation value of PauliZ on both qubits\n",
    "    return qml.expval(qml.PauliZ(0)), qml.expval(qml.PauliZ(1))"
   ]
  },
  {
   "cell_type": "code",
   "execution_count": 30,
   "metadata": {},
   "outputs": [
    {
     "name": "stdout",
     "output_type": "stream",
     "text": [
      "Circuit output: (np.float64(-0.03792561519550364), np.float64(-0.03055504365166639))\n",
      "0: ──RX(1.6)──╭●──DepolarizingChannel(0.1)───────────────────────────┤  <Z>\n",
      "1: ──RX(0.6)──╰X─╭●─────────────────────────DepolarizingChannel(0.1)─┤  <Z>\n",
      "2: ──RX(-1.7)────╰X─────────────────────────DepolarizingChannel(0.1)─┤     \n"
     ]
    }
   ],
   "source": [
    "# Example parameters\n",
    "params = np.random.normal(size=(L,N))\n",
    "\n",
    "# Execute the circuit\n",
    "result = circuit(params,layers=L)\n",
    "print(\"Circuit output:\", result)\n",
    "\n",
    "drawer = qml.draw(circuit, show_all_wires=True, wire_order=[0,1], decimals=1)\n",
    "print(drawer(params,L))"
   ]
  },
  {
   "cell_type": "code",
   "execution_count": 109,
   "metadata": {},
   "outputs": [
    {
     "data": {
      "image/png": "[encoded data removed]",
      "text/plain": [
       "<Figure size 700x400 with 1 Axes>"
      ]
     },
     "metadata": {},
     "output_type": "display_data"
    }
   ],
   "source": [
    "fig, ax = qml.draw_mpl(circuit,expansion_strategy=\"device\",style=\"black_white\")(params,layers=L)"
   ]
  },
  {
   "cell_type": "code",
   "execution_count": 64,
   "metadata": {},
   "outputs": [],
   "source": [
    "N=3"
   ]
  },
  {
   "cell_type": "code",
   "execution_count": 65,
   "metadata": {},
   "outputs": [],
   "source": [
    "h = 9/N\n",
    "scale = 2**(N/2)\n",
    "\n",
    "# Build the Hamiltonian: sum Z_k ⊗ Z_{k+1}\n",
    "coeffs = [h * scale for _ in range(N - 1)]\n",
    "ops = [qml.PauliZ(k) @ qml.PauliZ(k + 1) for k in range(N - 1)]\n",
    "H = qml.Hamiltonian(coeffs, ops)\n",
    "\n",
    "\n",
    "def maximally_entangled_state(N):\n",
    "    ghz_state = np.zeros(2**N, dtype=complex)\n",
    "    ghz_state[0] = 1 / np.sqrt(2)         # |000⟩\n",
    "    ghz_state[-1] = 1 / np.sqrt(2)        # |1⟩\n",
    "    qml.StatePrep(ghz_state, wires=range(N))\n",
    "\n",
    "def layer(params, N, L):\n",
    "    \"\"\"Apply RX rotations to all qubits.\"\"\"\n",
    "    for i in range(N):\n",
    "        qml.RX(params[i], wires=i)\n",
    "        \n",
    "        if i < N - 1:\n",
    "            qml.CNOT(wires=[i, i + 1])\n",
    "\n",
    "def custom_layer(params, apply_entangled, N, L):\n",
    "    \"\"\"Apply one full layer of RX + (CNOT or Entangled state).\"\"\"\n",
    "    \n",
    "    if apply_entangled:\n",
    "        maximally_entangled_state(N)\n",
    "    else:\n",
    "        layer(params, N, L)"
   ]
  },
  {
   "cell_type": "code",
   "execution_count": 74,
   "metadata": {},
   "outputs": [
    {
     "data": {
      "text/plain": [
       "np.complex128(0j)"
      ]
     },
     "execution_count": 74,
     "metadata": {},
     "output_type": "execute_result"
    }
   ],
   "source": [
    "import torch as th\n",
    "\n",
    "N = 5\n",
    "\n",
    "h = 9/N\n",
    "scale = 2**(N/2)\n",
    "\n",
    "# Build the Hamiltonian: sum Z_k ⊗ Z_{k+1}\n",
    "coeffs = [h * scale for _ in range(N - 1)]\n",
    "ops = [qml.PauliZ(k) @ qml.PauliZ(k + 1) for k in range(N - 1)]\n",
    "H = qml.Hamiltonian(coeffs, ops)\n",
    "\n",
    "def generate_H(N):\n",
    "    h = 9/N\n",
    "    scale = 2**(N/2)\n",
    "\n",
    "    Z = th.tensor([[1, 0], [0, -1]], dtype=th.complex128)\n",
    "\n",
    "    ZZ = th.kron(Z, Z)\n",
    "\n",
    "    H = th.zeros(2**N, 2**N, dtype=th.complex128)\n",
    "\n",
    "    for i in range(N-1):\n",
    "        H += th.kron( th.eye(2**i), th.kron(ZZ, th.eye(2**(N-i-2))) )\n",
    "\n",
    "    return h*scale*H\n",
    "\n",
    "np.sum(H.matrix() - generate_H(N).numpy())"
   ]
  },
  {
   "cell_type": "code",
   "execution_count": 27,
   "metadata": {},
   "outputs": [
    {
     "name": "stdout",
     "output_type": "stream",
     "text": [
      "13.499999999999993\n"
     ]
    }
   ],
   "source": [
    "def calc_variance(p,N,L):\n",
    "    state = 0\n",
    "    n_sim = 1\n",
    "\n",
    "    for _ in range(n_sim):\n",
    "        params = np.random.uniform(0, np.pi, size=(L, N))\n",
    "\n",
    "        # Sample whether to entangle or use CNOT at each layer\n",
    "        entangle_flags = np.random.rand(L) < p  # Boolean array\n",
    "\n",
    "        dev = qml.device(\"default.qubit\", wires=N)\n",
    "\n",
    "        @qml.qnode(dev)\n",
    "        def circuit(params, entangle_flags):\n",
    "            \"\"\"Build a circuit using repeated custom layers.\"\"\"\n",
    "            for i, apply_entangled in enumerate(entangle_flags):\n",
    "                custom_layer(params[i], apply_entangled, N, L)\n",
    "            return qml.expval(H)\n",
    "\n",
    "        # Run the circuit\n",
    "        state += circuit(params, entangle_flags)\n",
    "    \n",
    "    return state/n_sim\n",
    "\n",
    "\n",
    "p = 1  # Probability to apply maximally entangled state\n",
    "N = 4\n",
    "L = 2\n",
    "\n",
    "print(calc_variance(1,N,L))\n"
   ]
  },
  {
   "cell_type": "code",
   "execution_count": null,
   "metadata": {},
   "outputs": [],
   "source": []
  },
  {
   "cell_type": "code",
   "execution_count": 75,
   "metadata": {},
   "outputs": [
    {
     "name": "stdout",
     "output_type": "stream",
     "text": [
      "[[0.744+0.j 0.   +0.j 0.   +0.j 0.   +0.j 0.   +0.j 0.   +0.j 0.244+0.j\n",
      "  0.155+0.j]\n",
      " [0.   +0.j 0.   +0.j 0.   +0.j 0.   +0.j 0.   +0.j 0.   +0.j 0.   +0.j\n",
      "  0.   +0.j]\n",
      " [0.   +0.j 0.   +0.j 0.   +0.j 0.   +0.j 0.   +0.j 0.   +0.j 0.   +0.j\n",
      "  0.   +0.j]\n",
      " [0.   +0.j 0.   +0.j 0.   +0.j 0.   +0.j 0.   +0.j 0.   +0.j 0.   +0.j\n",
      "  0.   +0.j]\n",
      " [0.   +0.j 0.   +0.j 0.   +0.j 0.   +0.j 0.   +0.j 0.   +0.j 0.   +0.j\n",
      "  0.   +0.j]\n",
      " [0.   +0.j 0.   +0.j 0.   +0.j 0.   +0.j 0.   +0.j 0.   +0.j 0.   +0.j\n",
      "  0.   +0.j]\n",
      " [0.244+0.j 0.   +0.j 0.   +0.j 0.   +0.j 0.   +0.j 0.   +0.j 0.101+0.j\n",
      "  0.   +0.j]\n",
      " [0.155+0.j 0.   +0.j 0.   +0.j 0.   +0.j 0.   +0.j 0.   +0.j 0.   +0.j\n",
      "  0.155+0.j]]\n"
     ]
    }
   ],
   "source": [
    "import pennylane as qml\n",
    "from pennylane import numpy as np\n",
    "\n",
    "n_qubits = 3\n",
    "dev = qml.device(\"default.mixed\", wires=n_qubits)\n",
    "\n",
    "# State 1: Rotation + CNOT\n",
    "@qml.qnode(dev)\n",
    "def evolved_state():\n",
    "    qml.RY(np.pi / 4, wires=0)\n",
    "    qml.CNOT(wires=[0, 1])\n",
    "    return qml.density_matrix(wires=range(n_qubits))\n",
    "\n",
    "# State 2: GHZ\n",
    "@qml.qnode(dev)\n",
    "def ghz_state():\n",
    "    ghz = np.zeros(2**n_qubits, dtype=complex)\n",
    "    ghz[0] = 1/np.sqrt(2)\n",
    "    ghz[-1] = 1/np.sqrt(2)\n",
    "    qml.StatePrep(ghz, wires=range(n_qubits))\n",
    "    return qml.density_matrix(wires=range(n_qubits))\n",
    "\n",
    "def probabilistic_state(p=0.3, shots=1000):\n",
    "    dm_sum = np.zeros((2**n_qubits, 2**n_qubits), dtype=complex)\n",
    "\n",
    "    for _ in range(shots):\n",
    "        if np.random.rand() < p:\n",
    "            dm = ghz_state()\n",
    "        else:\n",
    "            dm = evolved_state()\n",
    "        dm_sum += dm\n",
    "\n",
    "    return dm_sum / shots\n",
    "\n",
    "rho = probabilistic_state(p=0.3, shots=1000)\n",
    "print(np.round(rho, 3))\n"
   ]
  },
  {
   "cell_type": "code",
   "execution_count": null,
   "metadata": {},
   "outputs": [],
   "source": []
  }
 ],
 "metadata": {
  "kernelspec": {
   "display_name": "myenv",
   "language": "python",
   "name": "python3"
  },
  "language_info": {
   "codemirror_mode": {
    "name": "ipython",
    "version": 3
   },
   "file_extension": ".py",
   "mimetype": "text/x-python",
   "name": "python",
   "nbconvert_exporter": "python",
   "pygments_lexer": "ipython3",
   "version": "3.13.2"
  }
 },
 "nbformat": 4,
 "nbformat_minor": 2
}
