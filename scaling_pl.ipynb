{
 "cells": [
  {
   "cell_type": "markdown",
   "metadata": {},
   "source": [
    "# Test on the loss function scaling in deep and shallow circuits"
   ]
  },
  {
   "cell_type": "code",
   "execution_count": 28,
   "metadata": {},
   "outputs": [],
   "source": [
    "import numpy as np\n",
    "import pennylane as qml\n",
    "import torch as th"
   ]
  },
  {
   "cell_type": "markdown",
   "metadata": {},
   "source": [
    "## Main test\n"
   ]
  },
  {
   "cell_type": "code",
   "execution_count": 172,
   "metadata": {},
   "outputs": [],
   "source": [
    "def generate_H(N):\n",
    "    h = 9/N\n",
    "    scale = 2**(N/2)\n",
    "\n",
    "    Z = th.tensor([[1, 0], [0, -1]], dtype=th.complex128)\n",
    "\n",
    "    ZZ = th.kron(Z, Z)\n",
    "\n",
    "    H = th.zeros(2**N, 2**N, dtype=th.complex128)\n",
    "\n",
    "    for i in range(N-1):\n",
    "        H += th.kron( th.eye(2**i), th.kron(ZZ, th.eye(2**(N-i-2))) )\n",
    "\n",
    "    return h*scale*H\n",
    "\n",
    "def generate_dm(N,L,p):\n",
    "\n",
    "    dev = qml.device(\"lightning.qubit\", wires=N)\n",
    "    @qml.qnode(dev)\n",
    "    def circuit(params, bool_ghz):\n",
    "        \"\"\"Build a circuit using repeated custom layers.\"\"\"\n",
    "        L,N = params.shape\n",
    "\n",
    "        # Prepare GHZ state\n",
    "        if bool_ghz:\n",
    "            qml.Hadamard(wires=0)\n",
    "            for i in range(1, N):\n",
    "                qml.CNOT(wires=[0, i])\n",
    "\n",
    "        for l in range(L):\n",
    "            for n in range(N):\n",
    "                qml.RX(params[l,n], wires=n)\n",
    "            for i in range(N-1):\n",
    "                qml.CNOT(wires=[i,i+1])\n",
    "        return qml.state()\n",
    "        \n",
    "    dm_state = th.zeros(2**N,2**N, dtype=th.complex128)\n",
    "\n",
    "    n_run = 100\n",
    "\n",
    "    params = np.random.uniform(0, np.pi, size=(L, N))\n",
    "\n",
    "    for _ in range(n_run):\n",
    "        # Sample whether to entangle or use CNOT at each layer\n",
    "        entangle_flags = np.random.rand(L) < p  # Boolean array\n",
    "\n",
    "        #print(entangle_flags)\n",
    "        \n",
    "        last_true_idx = np.where(entangle_flags)[0][-1] if np.any(entangle_flags) else 0        \n",
    "\n",
    "        if last_true_idx<N:\n",
    "            if last_true_idx == 0:\n",
    "                bool_ghz = False\n",
    "            else:\n",
    "                bool_ghz = True\n",
    "            #print(\"first\",last_true_idx)\n",
    "            l = last_true_idx   # number of effective layers \n",
    "            state = th.tensor(circuit(params[l:,:],bool_ghz))\n",
    "        else:\n",
    "            print(\"second\",last_true_idx)\n",
    "            state = th.zeros(2**N, dtype=th.complex128)\n",
    "            state[0] = 1/np.sqrt(2)\n",
    "            state[-1] = 1/np.sqrt(2)\n",
    "\n",
    "        dm_state += th.outer(state.conj(), state)\n",
    "\n",
    "    return dm_state / n_run\n",
    "\n",
    "def calc_variance(N,L,p, n_sim=100):\n",
    "\n",
    "    H = generate_H(N)\n",
    "\n",
    "    res = []\n",
    "\n",
    "    for _ in range(n_sim):\n",
    "        \n",
    "        state = generate_dm(N,L,p)\n",
    "\n",
    "        # Run the circuit\n",
    "        res.append(th.trace(state @ H).real)\n",
    "    \n",
    "    return np.mean(res),np.std(res)"
   ]
  },
  {
   "cell_type": "code",
   "execution_count": 175,
   "metadata": {},
   "outputs": [
    {
     "data": {
      "text/plain": [
       "(np.float64(-0.8953563289752888), np.float64(4.731380548220177))"
      ]
     },
     "execution_count": 175,
     "metadata": {},
     "output_type": "execute_result"
    }
   ],
   "source": [
    "calc_variance(4,2,0.)"
   ]
  },
  {
   "cell_type": "markdown",
   "metadata": {},
   "source": [
    "### Circuit design"
   ]
  },
  {
   "cell_type": "code",
   "execution_count": null,
   "metadata": {},
   "outputs": [
    {
     "data": {
      "image/png": "[encoded data removed]",
      "text/plain": [
       "<Figure size 700x300 with 1 Axes>"
      ]
     },
     "metadata": {},
     "output_type": "display_data"
    }
   ],
   "source": [
    "N = 2\n",
    "\n",
    "def generate_H(N):\n",
    "    h = 9 / N\n",
    "    scale = 2 ** (N / 2)\n",
    "\n",
    "    coeffs = []\n",
    "    observables = []\n",
    "\n",
    "    for i in range(N - 1):\n",
    "        op = qml.PauliZ(i) @ qml.PauliZ(i + 1)\n",
    "        coeffs.append(1.0)  # You can scale later\n",
    "        observables.append(op)\n",
    "\n",
    "    H = qml.Hamiltonian([h * scale * c for c in coeffs], observables)\n",
    "    return H\n",
    "\n",
    "dev = qml.device(\"default.qubit\", wires=N)\n",
    "@qml.qnode(dev)\n",
    "def circuit(params, bool_ghz):\n",
    "        \"\"\"Build a circuit using repeated custom layers.\"\"\"\n",
    "        L,N = params.shape\n",
    "\n",
    "        # Prepare GHZ state\n",
    "        if bool_ghz:\n",
    "            qml.Hadamard(wires=0)\n",
    "            for i in range(1, N):\n",
    "                qml.CNOT(wires=[0, i])\n",
    "\n",
    "        for l in range(L):\n",
    "            for n in range(N):\n",
    "                qml.RX(params[l,n], wires=n)\n",
    "            for i in range(N-1):\n",
    "                qml.CNOT(wires=[i,i+1])\n",
    "        return qml.state()\n",
    "\n",
    "params = np.ones((2, N)) \n",
    "fig, ax = qml.draw_mpl(circuit,expansion_strategy=\"device\",style=\"black_white\")(params,False)"
   ]
  },
  {
   "cell_type": "code",
   "execution_count": 183,
   "metadata": {},
   "outputs": [
    {
     "data": {
      "text/plain": [
       "tensor([ 0.7071+0.0000j,  0.0000+0.0000j,  0.0000+0.0000j,  0.0000+0.0000j,\n",
       "         0.0000-0.5000j,  0.0000+0.0000j, -0.3536+0.0000j,  0.0000+0.3536j],\n",
       "       dtype=torch.complex128)"
      ]
     },
     "execution_count": 183,
     "metadata": {},
     "output_type": "execute_result"
    },
    {
     "data": {
      "image/png": "[encoded data removed]",
      "text/plain": [
       "<Figure size 600x400 with 1 Axes>"
      ]
     },
     "metadata": {},
     "output_type": "display_data"
    }
   ],
   "source": [
    "N = 3\n",
    "\n",
    "dev = qml.device(\"default.qubit\", wires=N)\n",
    "@qml.qnode(dev)\n",
    "def circuit():\n",
    "        qml.RX(np.pi/2, wires=0)\n",
    "        qml.CRX(np.pi/2, wires=[0,1])\n",
    "        qml.CRX(np.pi/2, wires=[1,2])\n",
    "        return qml.state()\n",
    "\n",
    "params = np.ones((2, N)) \n",
    "fig, ax = qml.draw_mpl(circuit,expansion_strategy=\"device\",style=\"black_white\")()\n",
    "th.tensor(circuit())"
   ]
  },
  {
   "cell_type": "code",
   "execution_count": null,
   "metadata": {},
   "outputs": [],
   "source": []
  }
 ],
 "metadata": {
  "kernelspec": {
   "display_name": "myenv",
   "language": "python",
   "name": "python3"
  },
  "language_info": {
   "codemirror_mode": {
    "name": "ipython",
    "version": 3
   },
   "file_extension": ".py",
   "mimetype": "text/x-python",
   "name": "python",
   "nbconvert_exporter": "python",
   "pygments_lexer": "ipython3",
   "version": "3.13.2"
  }
 },
 "nbformat": 4,
 "nbformat_minor": 2
}
