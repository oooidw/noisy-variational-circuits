{
 "cells": [
  {
   "cell_type": "code",
   "execution_count": 1,
   "id": "a48cdff3",
   "metadata": {},
   "outputs": [],
   "source": [
    "from pennylane import numpy as np\n",
    "import pennylane as qml\n",
    "from pennylane import qchem\n",
    "from matplotlib import pyplot as plt\n",
    "from functions_vqe import vqe_uccsd, vqe_hee\n",
    "from functions_vqe_th import optimize_vqe, VQEModule\n",
    "import torch as th\n",
    "\n",
    "device = 'cpu'"
   ]
  },
  {
   "cell_type": "markdown",
   "id": "5ac31211",
   "metadata": {},
   "source": [
    "## He<sub>2</sub> hamiltonian definition "
   ]
  },
  {
   "cell_type": "code",
   "execution_count": 2,
   "id": "8c99d519",
   "metadata": {},
   "outputs": [
    {
     "name": "stdout",
     "output_type": "stream",
     "text": [
      "Number of qubits =  8\n",
      "The Hamiltonian is  -1.6743100655776797 * I([0, 1, 2, 3, 4, 5, 6, 7]) + 0.3416412951109973 * Z(0) + 0.01523407338776362 * (Y(0) @ Z(1) @ Z(2) @ Z(3) @ Y(4)) + 0.01523407338776362 * (X(0) @ Z(1) @ Z(2) @ Z(3) @ X(4)) + 0.3416408311620236 * Z(2) + 0.025441159889832372 * (Z(0) @ Z(2)) + 0.015234388911867857 * (Y(2) @ Z(3) @ Z(4) @ Z(5) @ Y(6)) + 0.015234388911867857 * (X(2) @ Z(3) @ Z(4) @ Z(5) @ X(6)) + 7.317214998671384e-08 * (Z(0) @ Y(2) @ Z(3) @ Z(4) @ Z(5) @ Y(6)) + 7.317214998671384e-08 * (Z(0) @ X(2) @ Z(3) @ Z(4) @ Z(5) @ X(6)) + -0.5193693204313432 * Z(4) + 0.09152839641299164 * (Z(0) @ Z(4)) + -0.5193733761290926 * Z(6) + 0.0915284611478574 * (Z(0) @ Z(6)) + 0.34164129511099733 * Z(1) + 0.14108387203893755 * (Z(0) @ Z(1)) + 0.03956129782205163 * (Y(0) @ Z(2) @ Z(3) @ Y(4)) + 0.03956129782205163 * (X(0) @ Z(2) @ Z(3) @ X(4)) + 0.11564281616296 * (Y(0) @ X(1) @ X(2) @ Y(3)) + -0.11564281616296 * (Y(0) @ Y(1) @ X(2) @ X(3)) + -0.11564281616296 * (X(0) @ X(1) @ Y(2) @ Y(3)) + 0.11564281616296 * (X(0) @ Y(1) @ Y(2) @ X(3)) + 0.03956117932358059 * (Y(0) @ X(1) @ X(3) @ Z(4) @ Z(5) @ Y(6)) + 0.03956117932358059 * (Y(0) @ Y(1) @ Y(3) @ Z(4) @ Z(5) @ Y(6)) + 0.03956117932358059 * (X(0) @ X(1) @ X(3) @ Z(4) @ Z(5) @ X(6)) + 0.03956117932358059 * (X(0) @ Y(1) @ Y(3) @ Z(4) @ Z(5) @ X(6)) + 0.015234073387763607 * (Y(1) @ Z(2) @ Z(3) @ Z(4) @ Y(5)) + 0.03956129782205163 * (Z(0) @ Y(1) @ Z(2) @ Z(3) @ Z(4) @ Y(5)) + 0.015234073387763607 * (X(1) @ Z(2) @ Z(3) @ Z(4) @ X(5)) + 0.03956129782205163 * (Z(0) @ X(1) @ Z(2) @ Z(3) @ Z(4) @ X(5)) + 0.028458819689448387 * (Y(0) @ X(1) @ X(4) @ Y(5)) + -0.028458819689448387 * (Y(0) @ Y(1) @ X(4) @ X(5)) + -0.028458819689448387 * (X(0) @ X(1) @ Y(4) @ Y(5)) + 0.028458819689448387 * (X(0) @ Y(1) @ Y(4) @ X(5)) + -0.03956117932358059 * (Y(0) @ X(1) @ X(2) @ Z(3) @ Z(4) @ Z(5) @ Z(6) @ Y(7)) + 0.03956117932358059 * (Y(0) @ Y(1) @ X(2) @ Z(3) @ Z(4) @ Z(5) @ Z(6) @ X(7)) + 0.03956117932358059 * (X(0) @ X(1) @ Y(2) @ Z(3) @ Z(4) @ Z(5) @ Z(6) @ Y(7)) + -0.03956117932358059 * (X(0) @ Y(1) @ Y(2) @ Z(3) @ Z(4) @ Z(5) @ Z(6) @ X(7)) + 0.028458733371829057 * (Y(0) @ X(1) @ X(6) @ Y(7)) + -0.028458733371829057 * (Y(0) @ Y(1) @ X(6) @ X(7)) + -0.028458733371829057 * (X(0) @ X(1) @ Y(6) @ Y(7)) + 0.028458733371829057 * (X(0) @ Y(1) @ Y(6) @ X(7)) + -7.317210519788842e-08 * (Y(0) @ Z(1) @ Z(3) @ Y(4)) + -7.317210519788842e-08 * (X(0) @ Z(1) @ Z(3) @ X(4)) + 0.06608727495148241 * (Y(0) @ Z(1) @ Y(2) @ Y(4) @ Z(5) @ Y(6)) + 0.06608727495138479 * (Y(0) @ Z(1) @ Y(2) @ X(4) @ Z(5) @ X(6)) + 0.06608727495138479 * (X(0) @ Z(1) @ X(2) @ Y(4) @ Z(5) @ Y(6)) + 0.06608727495148241 * (X(0) @ Z(1) @ X(2) @ X(4) @ Z(5) @ X(6)) + 0.3416408311620236 * Z(3) + 0.14108397605279235 * (Z(0) @ Z(3)) + 0.039561365091199584 * (Y(0) @ Z(1) @ Z(2) @ Y(4)) + 0.039561365091199584 * (X(0) @ Z(1) @ Z(2) @ X(4)) + -0.03956143826330478 * (Y(0) @ Y(3) @ Z(4) @ Y(5) @ Z(1) @ Y(2)) + -0.03956143826330478 * (Y(0) @ X(3) @ Z(4) @ X(5) @ Z(1) @ Y(2)) + -0.03956143826330478 * (X(0) @ Y(3) @ Z(4) @ Y(5) @ Z(1) @ X(2)) + -0.03956143826330478 * (X(0) @ X(3) @ Z(4) @ X(5) @ Z(1) @ X(2)) + -0.02845881190834483 * (Y(0) @ Z(1) @ Z(2) @ X(3) @ X(5) @ Y(6)) + -0.02845881190834483 * (Y(0) @ Z(1) @ Z(2) @ Y(3) @ Y(5) @ Y(6)) + -0.02845881190834483 * (X(0) @ Z(1) @ Z(2) @ X(3) @ X(5) @ X(6)) + -0.02845881190834483 * (X(0) @ Z(1) @ Z(2) @ Y(3) @ Y(5) @ X(6)) + 0.015234388911867864 * (Y(3) @ Z(4) @ Z(5) @ Z(6) @ Y(7)) + 0.03956125249573057 * (Z(0) @ Y(3) @ Z(4) @ Z(5) @ Z(6) @ Y(7)) + 0.015234388911867864 * (X(3) @ Z(4) @ Z(5) @ Z(6) @ X(7)) + 0.03956125249573057 * (Z(0) @ X(3) @ Z(4) @ Z(5) @ Z(6) @ X(7)) + 0.028458811908442454 * (Y(0) @ X(3) @ X(4) @ Z(5) @ Z(6) @ Y(7) @ Z(1) @ Z(2)) + -0.028458811908442454 * (Y(0) @ Y(3) @ X(4) @ Z(5) @ Z(6) @ X(7) @ Z(1) @ Z(2)) + -0.028458811908442454 * (X(0) @ X(3) @ Y(4) @ Z(5) @ Z(6) @ Y(7) @ Z(1) @ Z(2)) + 0.028458811908442454 * (X(0) @ Y(3) @ Y(4) @ Z(5) @ Z(6) @ X(7) @ Z(1) @ Z(2)) + 1.0118442622143731e-07 * (Y(0) @ Z(1) @ Z(2) @ Z(3) @ Y(4) @ Z(6)) + 1.0118442622143731e-07 * (X(0) @ Z(1) @ Z(2) @ Z(3) @ X(4) @ Z(6)) + -0.5193693204313432 * Z(5) + 0.11998721610244002 * (Z(0) @ Z(5)) + 0.03194422944681539 * (Y(0) @ Z(1) @ Z(2) @ Z(3) @ Y(4) @ Z(5)) + 0.03194422944681539 * (X(0) @ Z(1) @ Z(2) @ Z(3) @ X(4) @ Z(5)) + 0.09454608685982724 * (Y(0) @ Y(5) @ Z(6) @ Y(7) @ Z(1) @ Y(2)) + 0.09454608685982724 * (Y(0) @ X(5) @ Z(6) @ X(7) @ Z(1) @ Y(2)) + 0.09454608685982724 * (X(0) @ Y(5) @ Z(6) @ Y(7) @ Z(1) @ X(2)) + 0.09454608685982724 * (X(0) @ X(5) @ Z(6) @ X(7) @ Z(1) @ X(2)) + -0.03194408442876574 * (Y(0) @ Z(1) @ Z(2) @ Z(3) @ Z(4) @ X(5) @ X(6) @ Y(7)) + 0.03194408442876574 * (Y(0) @ Z(1) @ Z(2) @ Z(3) @ Z(4) @ Y(5) @ X(6) @ X(7)) + 0.03194408442876574 * (X(0) @ Z(1) @ Z(2) @ Z(3) @ Z(4) @ X(5) @ Y(6) @ Y(7)) + -0.03194408442876574 * (X(0) @ Z(1) @ Z(2) @ Z(3) @ Z(4) @ Y(5) @ Y(6) @ X(7)) + -0.5193733761290926 * Z(7) + 0.11998719451968645 * (Z(0) @ Z(7)) + 0.031944185613191955 * (Y(0) @ Z(1) @ Z(2) @ Z(3) @ Y(4) @ Z(7)) + 0.031944185613191955 * (X(0) @ Z(1) @ Z(2) @ Z(3) @ X(4) @ Z(7)) + 0.025441159889832372 * (Z(1) @ Z(3)) + 7.317214998671384e-08 * (Z(1) @ Y(3) @ Z(4) @ Z(5) @ Z(6) @ Y(7)) + 7.317214998671384e-08 * (Z(1) @ X(3) @ Z(4) @ Z(5) @ Z(6) @ X(7)) + 0.09152839641299164 * (Z(1) @ Z(5)) + 0.0915284611478574 * (Z(1) @ Z(7)) + 0.14108397605279235 * (Z(1) @ Z(2)) + 0.039561365091199584 * (Y(1) @ Z(3) @ Z(4) @ Y(5)) + 0.039561365091199584 * (X(1) @ Z(3) @ Z(4) @ X(5)) + -0.03956143826330478 * (Y(1) @ X(2) @ X(3) @ Y(4)) + 0.03956143826330478 * (Y(1) @ Y(2) @ X(3) @ X(4)) + 0.03956143826330478 * (X(1) @ X(2) @ Y(3) @ Y(4)) + -0.03956143826330478 * (X(1) @ Y(2) @ Y(3) @ X(4)) + -0.02845881190834483 * (Y(1) @ X(2) @ X(4) @ Z(5) @ Z(6) @ Y(7)) + -0.02845881190834483 * (Y(1) @ Y(2) @ Y(4) @ Z(5) @ Z(6) @ Y(7)) + -0.02845881190834483 * (X(1) @ X(2) @ X(4) @ Z(5) @ Z(6) @ X(7)) + -0.02845881190834483 * (X(1) @ Y(2) @ Y(4) @ Z(5) @ Z(6) @ X(7)) + 0.03956125249573057 * (Z(1) @ Y(2) @ Z(3) @ Z(4) @ Z(5) @ Y(6)) + 0.03956125249573057 * (Z(1) @ X(2) @ Z(3) @ Z(4) @ Z(5) @ X(6)) + 0.028458811908442454 * (Y(1) @ X(2) @ X(5) @ Y(6)) + -0.028458811908442454 * (Y(1) @ Y(2) @ X(5) @ X(6)) + -0.028458811908442454 * (X(1) @ X(2) @ Y(5) @ Y(6)) + 0.028458811908442454 * (X(1) @ Y(2) @ Y(5) @ X(6)) + -7.317210519788842e-08 * (Y(1) @ Z(2) @ Z(4) @ Y(5)) + -7.317210519788842e-08 * (X(1) @ Z(2) @ Z(4) @ X(5)) + 0.06608727495148241 * (Y(1) @ Z(2) @ Y(3) @ Y(5) @ Z(6) @ Y(7)) + 0.06608727495138479 * (Y(1) @ Z(2) @ Y(3) @ X(5) @ Z(6) @ X(7)) + 0.06608727495138479 * (X(1) @ Z(2) @ X(3) @ Y(5) @ Z(6) @ Y(7)) + 0.06608727495148241 * (X(1) @ Z(2) @ X(3) @ X(5) @ Z(6) @ X(7)) + 0.11998721610244002 * (Z(1) @ Z(4)) + 0.03194422944681539 * (Y(1) @ Z(2) @ Z(3) @ Y(5)) + 0.03194422944681539 * (X(1) @ Z(2) @ Z(3) @ X(5)) + 0.09454608685982724 * (Y(1) @ Y(4) @ Z(5) @ Y(6) @ Z(2) @ Y(3)) + 0.09454608685982724 * (Y(1) @ X(4) @ Z(5) @ X(6) @ Z(2) @ Y(3)) + 0.09454608685982724 * (X(1) @ Y(4) @ Z(5) @ Y(6) @ Z(2) @ X(3)) + 0.09454608685982724 * (X(1) @ X(4) @ Z(5) @ X(6) @ Z(2) @ X(3)) + 0.03194408442876574 * (Y(1) @ Z(2) @ Z(3) @ X(4) @ X(6) @ Y(7)) + 0.03194408442876574 * (Y(1) @ Z(2) @ Z(3) @ Y(4) @ Y(6) @ Y(7)) + 0.03194408442876574 * (X(1) @ Z(2) @ Z(3) @ X(4) @ X(6) @ X(7)) + 0.03194408442876574 * (X(1) @ Z(2) @ Z(3) @ Y(4) @ Y(6) @ X(7)) + 1.0118442622143731e-07 * (Y(1) @ Z(2) @ Z(3) @ Z(4) @ Y(5) @ Z(7)) + 1.0118442622143731e-07 * (X(1) @ Z(2) @ Z(3) @ Z(4) @ X(5) @ Z(7)) + 0.11998719451968645 * (Z(1) @ Z(6)) + 0.031944185613191955 * (Y(1) @ Z(2) @ Z(3) @ Z(4) @ Y(5) @ Z(6)) + 0.031944185613191955 * (X(1) @ Z(2) @ Z(3) @ Z(4) @ X(5) @ Z(6)) + 0.09152840853436711 * (Z(2) @ Z(4)) + 0.09152847326949762 * (Z(2) @ Z(6)) + 0.1410840800668185 * (Z(2) @ Z(3)) + 0.039561319764828635 * (Y(2) @ Z(4) @ Z(5) @ Y(6)) + 0.039561319764828635 * (X(2) @ Z(4) @ Z(5) @ X(6)) + 0.02845889044545264 * (Y(2) @ X(3) @ X(4) @ Y(5)) + -0.02845889044545264 * (Y(2) @ Y(3) @ X(4) @ X(5)) + -0.02845889044545264 * (X(2) @ X(3) @ Y(4) @ Y(5)) + 0.02845889044545264 * (X(2) @ Y(3) @ Y(4) @ X(5)) + 0.039561319764828635 * (Z(2) @ Y(3) @ Z(4) @ Z(5) @ Z(6) @ Y(7)) + 0.039561319764828635 * (Z(2) @ X(3) @ Z(4) @ Z(5) @ Z(6) @ X(7)) + 0.028458804127525654 * (Y(2) @ X(3) @ X(6) @ Y(7)) + -0.028458804127525654 * (Y(2) @ Y(3) @ X(6) @ X(7)) + -0.028458804127525654 * (X(2) @ X(3) @ Y(6) @ Y(7)) + 0.028458804127525654 * (X(2) @ Y(3) @ Y(6) @ X(7)) + -1.0118431615843693e-07 * (Y(2) @ Z(3) @ Z(5) @ Y(6)) + -1.0118431615843693e-07 * (X(2) @ Z(3) @ Z(5) @ X(6)) + 0.11998729897981975 * (Z(2) @ Z(5)) + 0.03194420083398716 * (Y(2) @ Z(3) @ Z(4) @ Y(6)) + 0.03194420083398716 * (X(2) @ Z(3) @ Z(4) @ X(6)) + -0.031944302018303325 * (Y(2) @ Y(5) @ Z(6) @ Y(7) @ Z(3) @ Y(4)) + -0.031944302018303325 * (Y(2) @ X(5) @ Z(6) @ X(7) @ Z(3) @ Y(4)) + -0.031944302018303325 * (X(2) @ Y(5) @ Z(6) @ Y(7) @ Z(3) @ X(4)) + -0.031944302018303325 * (X(2) @ X(5) @ Z(6) @ X(7) @ Z(3) @ X(4)) + 0.11998727739702328 * (Z(2) @ Z(7)) + 0.031944157000230906 * (Y(2) @ Z(3) @ Z(4) @ Z(5) @ Y(6) @ Z(7)) + 0.031944157000230906 * (X(2) @ Z(3) @ Z(4) @ Z(5) @ X(6) @ Z(7)) + 0.09152840853436711 * (Z(3) @ Z(5)) + 0.09152847326949762 * (Z(3) @ Z(7)) + 0.11998729897981975 * (Z(3) @ Z(4)) + 0.03194420083398716 * (Y(3) @ Z(5) @ Z(6) @ Y(7)) + 0.03194420083398716 * (X(3) @ Z(5) @ Z(6) @ X(7)) + -0.031944302018303325 * (Y(3) @ X(4) @ X(5) @ Y(6)) + 0.031944302018303325 * (Y(3) @ Y(4) @ X(5) @ X(6)) + 0.031944302018303325 * (X(3) @ X(4) @ Y(5) @ Y(6)) + -0.031944302018303325 * (X(3) @ Y(4) @ Y(5) @ X(6)) + -1.0118431615843693e-07 * (Y(3) @ Z(4) @ Z(6) @ Y(7)) + -1.0118431615843693e-07 * (X(3) @ Z(4) @ Z(6) @ X(7)) + 0.11998727739702328 * (Z(3) @ Z(6)) + 0.0319441570002309 * (Y(3) @ Z(4) @ Z(5) @ Y(7)) + 0.0319441570002309 * (X(3) @ Z(4) @ Z(5) @ X(7)) + 0.025441159889825947 * (Z(4) @ Z(6)) + 0.10851595646504779 * (Z(4) @ Z(5)) + 0.0830747820827214 * (Y(4) @ X(5) @ X(6) @ Y(7)) + -0.0830747820827214 * (Y(4) @ Y(5) @ X(6) @ X(7)) + -0.0830747820827214 * (X(4) @ X(5) @ Y(6) @ Y(7)) + 0.0830747820827214 * (X(4) @ Y(5) @ Y(6) @ X(7)) + 0.10851594197254734 * (Z(4) @ Z(7)) + 0.025441159889825947 * (Z(5) @ Z(7)) + 0.10851594197254734 * (Z(5) @ Z(6)) + 0.10851592748043123 * (Z(6) @ Z(7))\n"
     ]
    }
   ],
   "source": [
    "dataset = qml.data.load('qchem', molname=\"He2\")[0]\n",
    "H, qubits = dataset.hamiltonian, len(dataset.hamiltonian.wires)\n",
    "print(\"Number of qubits = \", qubits)\n",
    "print(\"The Hamiltonian is \", H)"
   ]
  },
  {
   "cell_type": "code",
   "execution_count": 3,
   "id": "b8364fb8",
   "metadata": {},
   "outputs": [],
   "source": [
    "dev = qml.device(\"lightning.qubit\", wires=qubits)"
   ]
  },
  {
   "cell_type": "code",
   "execution_count": 4,
   "id": "2bb2a5d5",
   "metadata": {},
   "outputs": [
    {
     "name": "stdout",
     "output_type": "stream",
     "text": [
      "[1 1 1 1 0 0 0 0]\n"
     ]
    }
   ],
   "source": [
    "electrons = 4\n",
    "hf_state = qml.qchem.hf_state(electrons, qubits)\n",
    "singles, doubles = qchem.excitations(electrons, qubits)\n",
    "print(hf_state)"
   ]
  },
  {
   "cell_type": "code",
   "execution_count": 5,
   "id": "270cfa25",
   "metadata": {},
   "outputs": [],
   "source": [
    "s_wires, d_wires = qml.qchem.excitations_to_wires(singles, doubles)"
   ]
  },
  {
   "cell_type": "code",
   "execution_count": 6,
   "id": "888b5f6c",
   "metadata": {},
   "outputs": [],
   "source": [
    "max_iterations = 50\n",
    "conv_tol = 1e-06\n",
    "\n",
    "opt = qml.GradientDescentOptimizer(stepsize=0.1)"
   ]
  },
  {
   "cell_type": "markdown",
   "id": "a2af7d0e",
   "metadata": {},
   "source": [
    "## Distribution of results"
   ]
  },
  {
   "cell_type": "code",
   "execution_count": 8,
   "id": "7158c182",
   "metadata": {},
   "outputs": [
    {
     "name": "stdout",
     "output_type": "stream",
     "text": [
      "Layers: 2\n",
      "Layers: 4\n",
      "\n",
      "Convergence achieved!\n",
      "Layers: 6\n",
      "\n",
      "Convergence achieved!\n",
      "Layers: 8\n",
      "Layers: 10\n",
      "Layers: 12\n",
      "Layers: 14\n"
     ]
    }
   ],
   "source": [
    "layers = np.arange(2, 16, 2)\n",
    "mean_energies = []\n",
    "\n",
    "for l in layers:\n",
    "    print(\"Layers:\", l)\n",
    "    energies = []\n",
    "    for run in range(10):\n",
    "        opt = qml.AdamOptimizer(stepsize=0.1)\n",
    "        energy, _, _, _ = vqe_hee(H, qubits, L=l, opt=opt, max_iterations=100, conv_tol=1e-06, verbose=False)\n",
    "        energies.append(energy[-1])\n",
    "    mean_energies.append(np.mean(energies))\n"
   ]
  },
  {
   "cell_type": "code",
   "execution_count": 9,
   "id": "bd374442",
   "metadata": {},
   "outputs": [
    {
     "data": {
      "image/png": "[encoded data removed]",
      "text/plain": [
       "<Figure size 640x480 with 1 Axes>"
      ]
     },
     "metadata": {},
     "output_type": "display_data"
    }
   ],
   "source": [
    "plt.hist(mean_energies, bins='auto', edgecolor='black')\n",
    "plt.xlabel('Mean Energy')\n",
    "plt.ylabel('Frequency')\n",
    "plt.title('Histogram of Mean Energies')\n",
    "plt.show()"
   ]
  }
 ],
 "metadata": {
  "kernelspec": {
   "display_name": "Python 3",
   "language": "python",
   "name": "python3"
  },
  "language_info": {
   "codemirror_mode": {
    "name": "ipython",
    "version": 3
   },
   "file_extension": ".py",
   "mimetype": "text/x-python",
   "name": "python",
   "nbconvert_exporter": "python",
   "pygments_lexer": "ipython3",
   "version": "3.10.12"
  }
 },
 "nbformat": 4,
 "nbformat_minor": 5
}
